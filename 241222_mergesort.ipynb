{
 "cells": [
  {
   "attachments": {},
   "cell_type": "markdown",
   "metadata": {},
   "source": [
    "# 241222_merge.ipynb"
   ]
  },
  {
   "cell_type": "code",
   "execution_count": 15,
   "metadata": {},
   "outputs": [
    {
     "name": "stdout",
     "output_type": "stream",
     "text": [
      "{1: [2, 4], 2: [1, 3], 3: [2, 5], 4: [1], 5: [3]}\n",
      "학생 1부터 시작: [1, 2, 3, 5, 4]\n",
      "학생 3부터 시작: [3, 2, 1, 4, 5]\n"
     ]
    }
   ],
   "source": [
    "graph = {\n",
    "    1: [2, 4],\n",
    "    2: [1, 3],\n",
    "    3: [2, 5],\n",
    "    4: [1],\n",
    "    5: [3]\n",
    "}\n",
    "\n",
    "start_row, start_col = 0, 0\n",
    "path_to_treasure = (graph)\n",
    "print(path_to_treasure)\n",
    "\n",
    "print(\"학생 1부터 시작:\", dfs_iterative(graph, 1))\n",
    "print(\"학생 3부터 시작:\", dfs_iterative(graph, 3))"
   ]
  },
  {
   "cell_type": "code",
   "execution_count": 2,
   "metadata": {},
   "outputs": [
    {
     "name": "stdout",
     "output_type": "stream",
     "text": [
      "방문한 좌표: (0, 0)\n",
      "방문한 좌표: (1, 0)\n",
      "방문한 좌표: (1, 1)\n",
      "방문한 좌표: (0, 1)\n",
      "방문한 좌표: (1, 4)\n",
      "방문한 좌표: (2, 4)\n",
      "방문한 좌표: (3, 4)\n",
      "방문한 좌표: (3, 3)\n",
      "방문한 좌표: (2, 3)\n",
      "island의 개수: 2\n"
     ]
    }
   ],
   "source": [
    "def dfs(grid, x, y, visited):\n",
    "    \n",
    "    if x < 0 or x >= len(grid) or y < 0 or y >= len(grid[0]):\n",
    "        return\n",
    "    \n",
    "    if grid[x][y] == 0 or (x, y) in visited:\n",
    "        return\n",
    "    \n",
    "    \n",
    "    visited.add((x, y))\n",
    "    print(f\"방문한 좌표: ({x}, {y})\")  \n",
    "    \n",
    "   \n",
    "    dfs(grid, x + 1, y, visited)  \n",
    "    dfs(grid, x - 1, y, visited)  \n",
    "    dfs(grid, x, y + 1, visited)  \n",
    "    dfs(grid, x, y - 1, visited) \n",
    "\n",
    "def count_islands(grid):\n",
    "    visited = set()  \n",
    "    island_count = 0\n",
    "\n",
    "    for i in range(len(grid)):\n",
    "        for j in range(len(grid[0])):\n",
    "            if grid[i][j] == 1 and (i, j) not in visited:\n",
    "                \n",
    "                island_count += 1\n",
    "                dfs(grid, i, j, visited)  \n",
    "\n",
    "    return island_count\n",
    "\n",
    "\n",
    "grid = [\n",
    "    [1, 1, 0, 0, 0],\n",
    "    [1, 1, 0, 0, 1],\n",
    "    [0, 0, 0, 1, 1],\n",
    "    [0, 0, 0, 1, 1]\n",
    "]\n",
    "\n",
    "\n",
    "print(\"island의 개수:\", count_islands(grid))  "
   ]
  },
  {
   "cell_type": "code",
   "execution_count": 12,
   "metadata": {},
   "outputs": [],
   "source": [
    "def merge_sort(current):\n",
    "    if len(current) < 2:\n",
    "        return\n",
    "    mid = len(current) // 2\n",
    "    left = current[:mid]\n",
    "    right = current[mid:]\n",
    "\n",
    "    merge_sort(left)\n",
    "    merge_sort(right)\n",
    "    \n",
    "    merge(current, left, right)"
   ]
  },
  {
   "cell_type": "code",
   "execution_count": 13,
   "metadata": {},
   "outputs": [
    {
     "name": "stdout",
     "output_type": "stream",
     "text": [
      "[1, 2, 3, 4, 5]\n"
     ]
    }
   ],
   "source": [
    "array = [3, 2, 1, 4, 5]\n",
    "merge_sort(array)\n",
    "print(array)\n"
   ]
  },
  {
   "cell_type": "code",
   "execution_count": 14,
   "metadata": {},
   "outputs": [],
   "source": [
    "def merge(current, left, right):\n",
    "    i = j = k = 0\n",
    "    while i < len(left) and j < len(right):\n",
    "        if left[i] < right[j]:\n",
    "            current[k] = left[i]\n",
    "            i += 1\n",
    "        else:\n",
    "            current[k] = right[j]\n",
    "            j += 1\n",
    "        k += 1\n",
    "\n",
    "    while i < len(left):\n",
    "        current[k] = left[i]\n",
    "        i += 1\n",
    "        k += 1\n",
    "\n",
    "    while j < len(right):\n",
    "        current[k] = right[j]\n",
    "        j += 1\n",
    "        k += 1"
   ]
  },
  {
   "cell_type": "code",
   "execution_count": 25,
   "metadata": {},
   "outputs": [
    {
     "ename": "RecursionError",
     "evalue": "maximum recursion depth exceeded",
     "output_type": "error",
     "traceback": [
      "\u001b[0;31m---------------------------------------------------------------------------\u001b[0m",
      "\u001b[0;31mRecursionError\u001b[0m                            Traceback (most recent call last)",
      "Cell \u001b[0;32mIn[25], line 2\u001b[0m\n\u001b[1;32m      1\u001b[0m array \u001b[39m=\u001b[39m [\u001b[39m\"\u001b[39m\u001b[39mHarry poter\u001b[39m\u001b[39m\"\u001b[39m, \u001b[39m\"\u001b[39m\u001b[39mThe great gatsby\u001b[39m\u001b[39m\"\u001b[39m, \u001b[39m\"\u001b[39m\u001b[39m 1984\u001b[39m\u001b[39m\"\u001b[39m, \u001b[39m\"\u001b[39m\u001b[39mHow to kill a Mockingbird\u001b[39m\u001b[39m\"\u001b[39m, \u001b[39m\"\u001b[39m\u001b[39mMoby Dick\u001b[39m\u001b[39m\"\u001b[39m]\n\u001b[0;32m----> 2\u001b[0m merge_sort(array)\n\u001b[1;32m      3\u001b[0m \u001b[39mprint\u001b[39m(array)\n",
      "Cell \u001b[0;32mIn[22], line 10\u001b[0m, in \u001b[0;36mmerge_sort\u001b[0;34m(Book_pile)\u001b[0m\n\u001b[1;32m      7\u001b[0m left \u001b[39m=\u001b[39m Book_pile[:mid]\n\u001b[1;32m      8\u001b[0m right \u001b[39m=\u001b[39m Book_pile[mid:]\n\u001b[0;32m---> 10\u001b[0m merge_sort(left)\n\u001b[1;32m     11\u001b[0m merge_sort(right)\n\u001b[1;32m     13\u001b[0m merge(Book_pile, left, right)\n",
      "Cell \u001b[0;32mIn[22], line 10\u001b[0m, in \u001b[0;36mmerge_sort\u001b[0;34m(Book_pile)\u001b[0m\n\u001b[1;32m      7\u001b[0m left \u001b[39m=\u001b[39m Book_pile[:mid]\n\u001b[1;32m      8\u001b[0m right \u001b[39m=\u001b[39m Book_pile[mid:]\n\u001b[0;32m---> 10\u001b[0m merge_sort(left)\n\u001b[1;32m     11\u001b[0m merge_sort(right)\n\u001b[1;32m     13\u001b[0m merge(Book_pile, left, right)\n",
      "    \u001b[0;31m[... skipping similar frames: merge_sort at line 10 (2971 times)]\u001b[0m\n",
      "Cell \u001b[0;32mIn[22], line 10\u001b[0m, in \u001b[0;36mmerge_sort\u001b[0;34m(Book_pile)\u001b[0m\n\u001b[1;32m      7\u001b[0m left \u001b[39m=\u001b[39m Book_pile[:mid]\n\u001b[1;32m      8\u001b[0m right \u001b[39m=\u001b[39m Book_pile[mid:]\n\u001b[0;32m---> 10\u001b[0m merge_sort(left)\n\u001b[1;32m     11\u001b[0m merge_sort(right)\n\u001b[1;32m     13\u001b[0m merge(Book_pile, left, right)\n",
      "\u001b[0;31mRecursionError\u001b[0m: maximum recursion depth exceeded"
     ]
    }
   ],
   "source": [
    "array = [\"Harry poter\", \"The great gatsby\", \" 1984\", \"How to kill a Mockingbird\", \"Moby Dick\"]\n",
    "merge_sort(array)\n",
    "print(array)"
   ]
  },
  {
   "cell_type": "code",
   "execution_count": null,
   "metadata": {},
   "outputs": [],
   "source": []
  },
  {
   "cell_type": "code",
   "execution_count": null,
   "metadata": {},
   "outputs": [],
   "source": []
  },
  {
   "cell_type": "code",
   "execution_count": 26,
   "metadata": {},
   "outputs": [
    {
     "ename": "RecursionError",
     "evalue": "maximum recursion depth exceeded",
     "output_type": "error",
     "traceback": [
      "\u001b[0;31m---------------------------------------------------------------------------\u001b[0m",
      "\u001b[0;31mRecursionError\u001b[0m                            Traceback (most recent call last)",
      "Cell \u001b[0;32mIn[26], line 2\u001b[0m\n\u001b[1;32m      1\u001b[0m array \u001b[39m=\u001b[39m [\u001b[39m\"\u001b[39m\u001b[39mHarry poter\u001b[39m\u001b[39m\"\u001b[39m, \u001b[39m\"\u001b[39m\u001b[39mThe great gatsby\u001b[39m\u001b[39m\"\u001b[39m, \u001b[39m\"\u001b[39m\u001b[39m 1984\u001b[39m\u001b[39m\"\u001b[39m, \u001b[39m\"\u001b[39m\u001b[39mHow to kill a Mockingbird\u001b[39m\u001b[39m\"\u001b[39m, \u001b[39m\"\u001b[39m\u001b[39mMoby Dick\u001b[39m\u001b[39m\"\u001b[39m]\n\u001b[0;32m----> 2\u001b[0m merge_sort(array)\n\u001b[1;32m      3\u001b[0m \u001b[39mprint\u001b[39m(array)\n",
      "Cell \u001b[0;32mIn[22], line 10\u001b[0m, in \u001b[0;36mmerge_sort\u001b[0;34m(Book_pile)\u001b[0m\n\u001b[1;32m      7\u001b[0m left \u001b[39m=\u001b[39m Book_pile[:mid]\n\u001b[1;32m      8\u001b[0m right \u001b[39m=\u001b[39m Book_pile[mid:]\n\u001b[0;32m---> 10\u001b[0m merge_sort(left)\n\u001b[1;32m     11\u001b[0m merge_sort(right)\n\u001b[1;32m     13\u001b[0m merge(Book_pile, left, right)\n",
      "Cell \u001b[0;32mIn[22], line 10\u001b[0m, in \u001b[0;36mmerge_sort\u001b[0;34m(Book_pile)\u001b[0m\n\u001b[1;32m      7\u001b[0m left \u001b[39m=\u001b[39m Book_pile[:mid]\n\u001b[1;32m      8\u001b[0m right \u001b[39m=\u001b[39m Book_pile[mid:]\n\u001b[0;32m---> 10\u001b[0m merge_sort(left)\n\u001b[1;32m     11\u001b[0m merge_sort(right)\n\u001b[1;32m     13\u001b[0m merge(Book_pile, left, right)\n",
      "    \u001b[0;31m[... skipping similar frames: merge_sort at line 10 (2971 times)]\u001b[0m\n",
      "Cell \u001b[0;32mIn[22], line 10\u001b[0m, in \u001b[0;36mmerge_sort\u001b[0;34m(Book_pile)\u001b[0m\n\u001b[1;32m      7\u001b[0m left \u001b[39m=\u001b[39m Book_pile[:mid]\n\u001b[1;32m      8\u001b[0m right \u001b[39m=\u001b[39m Book_pile[mid:]\n\u001b[0;32m---> 10\u001b[0m merge_sort(left)\n\u001b[1;32m     11\u001b[0m merge_sort(right)\n\u001b[1;32m     13\u001b[0m merge(Book_pile, left, right)\n",
      "\u001b[0;31mRecursionError\u001b[0m: maximum recursion depth exceeded"
     ]
    }
   ],
   "source": [
    "array = [\"Harry poter\", \"The great gatsby\", \" 1984\", \"How to kill a Mockingbird\", \"Moby Dick\"]\n",
    "merge_sort(array)\n",
    "print(array)"
   ]
  },
  {
   "cell_type": "code",
   "execution_count": 27,
   "metadata": {},
   "outputs": [],
   "source": [
    "def merge_sort(books):\n",
    "    if len(books) < 2:\n",
    "        return books\n",
    "    \n",
    "    mid = len(books) // 2\n",
    "    left_half = books[:mid]\n",
    "    right_half = books[mid:]\n",
    "\n",
    "    return merge(merge_sort(left_half), merge_sort(right_half))\n",
    "\n",
    "def merge(left, right):\n",
    "    sorted_books = []\n",
    "    left_index, right_index = 0, 0\n",
    "\n",
    "    while left_index < len(left) and right_index < len(right):\n",
    "        if left[left_index] < right[right_index]:\n",
    "            sorted_books.append(left[left_index])\n",
    "            left_index += 1\n",
    "        else:\n",
    "            sorted_books.append(right[right_index])\n",
    "            right_index += 1\n",
    "    sorted_books.extend(left[left_index:])\n",
    "    sorted_books.extend(right[right_index:])\n",
    "\n",
    "    return sorted_books"
   ]
  },
  {
   "cell_type": "code",
   "execution_count": 28,
   "metadata": {},
   "outputs": [
    {
     "name": "stdout",
     "output_type": "stream",
     "text": [
      "[1, 2, 3, 4, 5, 6]\n"
     ]
    }
   ],
   "source": [
    "a_list = [1, 2, 3]\n",
    "b_list = [4, 5, 6]\n",
    "lst = []\n",
    "\n",
    "lst.extend(a_list)\n",
    "lst.extend(b_list)\n",
    "print(lst)"
   ]
  },
  {
   "cell_type": "code",
   "execution_count": null,
   "metadata": {},
   "outputs": [],
   "source": []
  }
 ],
 "metadata": {
  "kernelspec": {
   "display_name": "Python 3",
   "language": "python",
   "name": "python3"
  },
  "language_info": {
   "codemirror_mode": {
    "name": "ipython",
    "version": 3
   },
   "file_extension": ".py",
   "mimetype": "text/x-python",
   "name": "python",
   "nbconvert_exporter": "python",
   "pygments_lexer": "ipython3",
   "version": "3.11.3"
  },
  "orig_nbformat": 4
 },
 "nbformat": 4,
 "nbformat_minor": 2
}
