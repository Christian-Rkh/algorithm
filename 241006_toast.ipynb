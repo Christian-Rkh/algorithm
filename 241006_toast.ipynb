{
 "cells": [
  {
   "attachments": {},
   "cell_type": "markdown",
   "metadata": {},
   "source": [
    "- toast는 queue로 만든다 == 재료는 차례대로 쌓인다\n",
    "- 재료 box 가 있다\n",
    "- 재료는 햄, 치즈, 할라피뇨\n",
    "- 토스트를 굽는다\n",
    "- 뒤집어서 굽는다\n"
   ]
  },
  {
   "cell_type": "code",
   "execution_count": 9,
   "metadata": {},
   "outputs": [
    {
     "name": "stdout",
     "output_type": "stream",
     "text": [
      "deque(['bread', 'cheese', 'ham', 'jalapeno', 'bread'])\n",
      "deque(['bread', 'jalapeno', 'ham', 'cheese', 'bread'])\n"
     ]
    }
   ],
   "source": [
    "from collections import deque\n",
    "\n",
    "toast = deque()\n",
    "reversed_toast = deque()\n",
    "\n",
    "toast = deque()\n",
    "bread_box = ['bread'] * 16\n",
    "ham_box = ['ham'] * 13\n",
    "cheese_box = ['cheese'] * 10\n",
    "jalapeno_box = ['jalapeno'] * 7\n",
    "\n",
    "bread = bread_box.pop()\n",
    "toast.append(bread)\n",
    "\n",
    "cheese = cheese_box.pop()\n",
    "toast.append(cheese)\n",
    "\n",
    "ham = ham_box.pop()\n",
    "toast.append(ham)\n",
    "\n",
    "jalapeno = jalapeno_box.pop()\n",
    "toast.append(jalapeno)\n",
    "\n",
    "bread2 = bread_box.pop()\n",
    "toast.append(bread2)\n",
    "\n",
    "print(toast)\n",
    "\n",
    "# item5 = toast.pop()\n",
    "# reversed_toast.append(item5)\n",
    "\n",
    "# item4 = toast.pop()\n",
    "# reversed_toast.append(item4)\n",
    "\n",
    "# item3 = toast.pop()\n",
    "# reversed_toast.append(item3)\n",
    "\n",
    "# item2 = toast.pop()\n",
    "# reversed_toast.append(item2)\n",
    "\n",
    "# item1 = toast.pop()\n",
    "# reversed_toast.append(item1)\n",
    "\n",
    "while toast:\n",
    "    item = toast.pop()\n",
    "    reversed_toast.append(item)\n",
    "\n",
    "\n",
    "print(reversed_toast)\n",
    "\n",
    "\n"
   ]
  },
  {
   "cell_type": "code",
   "execution_count": 12,
   "metadata": {},
   "outputs": [
    {
     "name": "stdout",
     "output_type": "stream",
     "text": [
      "deque(['bread', 'cheese', 'ham', 'jalapeno', 'bread'])\n",
      "deque(['bread', 'jalapeno', 'ham', 'cheese', 'bread'])\n"
     ]
    }
   ],
   "source": [
    "from collections import deque\n",
    "\n",
    "def make_toast():\n",
    "    \n",
    "    toast = deque()\n",
    "    reversed_toast = deque()\n",
    "\n",
    "    toast = deque()\n",
    "    bread_box = ['bread'] * 16\n",
    "    ham_box = ['ham'] * 13\n",
    "    cheese_box = ['cheese'] * 10\n",
    "    jalapeno_box = ['jalapeno'] * 7\n",
    "\n",
    "    bread = bread_box.pop()\n",
    "    toast.append(bread)\n",
    "\n",
    "    cheese = cheese_box.pop()\n",
    "    toast.append(cheese)\n",
    "\n",
    "    ham = ham_box.pop()\n",
    "    toast.append(ham)\n",
    "\n",
    "    jalapeno = jalapeno_box.pop()\n",
    "    toast.append(jalapeno)\n",
    "\n",
    "    bread2 = bread_box.pop()\n",
    "    toast.append(bread2)\n",
    "\n",
    "    print(toast)\n",
    "\n",
    "    item5 = toast.pop()\n",
    "    reversed_toast.append(item5)\n",
    "\n",
    "    item4 = toast.pop()\n",
    "    reversed_toast.append(item4)\n",
    "\n",
    "    item3 = toast.pop()\n",
    "    reversed_toast.append(item3)\n",
    "\n",
    "    item2 = toast.pop()\n",
    "    reversed_toast.append(item2)\n",
    "\n",
    "    item1 = toast.pop()\n",
    "    reversed_toast.append(item1)\n",
    "\n",
    "    while toast:\n",
    "        item = toast.pop()\n",
    "        reversed_toast.append(item)\n",
    "\n",
    "\n",
    "    return reversed_toast \n",
    "\n",
    "toast = make_toast()\n",
    "print(toast)\n"
   ]
  },
  {
   "cell_type": "code",
   "execution_count": 1,
   "metadata": {},
   "outputs": [],
   "source": []
  },
  {
   "cell_type": "code",
   "execution_count": 11,
   "metadata": {},
   "outputs": [],
   "source": [
    "def func1(humidity, val_set):\n",
    "    if humidity < val_set:\n",
    "        return humidity\n",
    "    return 1\n",
    "\n",
    "def func2(humidity):\n",
    "    if humidity >= 50:\n",
    "        return 0\n",
    "    elif humidity >= 40:\n",
    "        return 1\n",
    "    elif humidity >= 30:\n",
    "        return 2\n",
    "    elif humidity >= 20:\n",
    "        return 3\n",
    "    elif humidity >= 10:\n",
    "        return 4\n",
    "    elif humidity >= 0: # This handles the case for humidity between 0 and 9\n",
    "        return 5\n",
    "    \n",
    "def func3(humidity, val_set):\n",
    "    if humidity < val_set:\n",
    "        return 0\n",
    "    elif humidity >= 40:\n",
    "        return 1\n",
    "\n",
    "def solution(mode_type, humidity, val_set):\n",
    "    answer = 0\n",
    "    if mode_type == \"auto\":\n",
    "        answer = func2(humidity)\n",
    "\n",
    "    elif mode_type == \"target\":\n",
    "        answer = func1(humidity, val_set)\n",
    "\n",
    "    elif mode_type == \"minimum\":\n",
    "        answer = func3(humidity, val_set)\n",
    "    return answer\n"
   ]
  },
  {
   "cell_type": "code",
   "execution_count": 12,
   "metadata": {},
   "outputs": [
    {
     "name": "stdout",
     "output_type": "stream",
     "text": [
      "3\n",
      "1\n",
      "0\n"
     ]
    }
   ],
   "source": [
    "result1 = solution( \"auto\", 23, 45)\n",
    "result2 = solution(\"target\", 41, 40)\n",
    "result3 = solution(\"minimum\", 10, 34)\n",
    "\n",
    "print(result1)\n",
    "print(result2)\n",
    "print(result3)"
   ]
  },
  {
   "cell_type": "code",
   "execution_count": null,
   "metadata": {},
   "outputs": [],
   "source": []
  }
 ],
 "metadata": {
  "kernelspec": {
   "display_name": "Python 3",
   "language": "python",
   "name": "python3"
  },
  "language_info": {
   "codemirror_mode": {
    "name": "ipython",
    "version": 3
   },
   "file_extension": ".py",
   "mimetype": "text/x-python",
   "name": "python",
   "nbconvert_exporter": "python",
   "pygments_lexer": "ipython3",
   "version": "3.11.3"
  },
  "orig_nbformat": 4
 },
 "nbformat": 4,
 "nbformat_minor": 2
}
