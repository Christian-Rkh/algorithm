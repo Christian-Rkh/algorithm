{
 "cells": [
  {
   "cell_type": "code",
   "execution_count": null,
   "metadata": {},
   "outputs": [],
   "source": [
    "def merge_sort(current):\n",
    "    if len(current) < 2:\n",
    "        return\n",
    "    mid = len(current) // 2\n",
    "    left = current[:mid]\n",
    "    right = current[mid:]\n",
    "\n",
    "    merge_sort(left)\n",
    "    merge_sort(right)\n",
    "\n",
    "    merge(current, left, right)"
   ]
  },
  {
   "cell_type": "code",
   "execution_count": null,
   "metadata": {},
   "outputs": [],
   "source": [
    "def merge(current, left, right):\n",
    "    i = j = k = 0\n",
    "    while i <len(left) and j < len(right):\n",
    "        if left[i] < right[j]:\n",
    "            current[k] = left[i]\n",
    "            i += 1\n",
    "        else:\n",
    "            current[k] = right[j]\n",
    "            j += 1\n",
    "        k += 1\n",
    "\n",
    "    while i < len(left):\n",
    "        current[k] = left[i]\n",
    "        i += 1\n",
    "        k += 1\n",
    "\n",
    "    while j < len(right):\n",
    "        current[k] = right[j]\n",
    "        j += 1\n",
    "        k += 1"
   ]
  },
  {
   "cell_type": "code",
   "execution_count": null,
   "metadata": {},
   "outputs": [
    {
     "name": "stdout",
     "output_type": "stream",
     "text": [
      "[1, 2, 3, 4, 5, 7, 8, 9, 10]\n"
     ]
    }
   ],
   "source": [
    "array = [5, 3, 8, 9, 4, 2, 7, 1, 10]\n",
    "merge_sort(array)\n",
    "print(array)"
   ]
  },
  {
   "cell_type": "code",
   "execution_count": null,
   "metadata": {},
   "outputs": [
    {
     "name": "stdout",
     "output_type": "stream",
     "text": [
      "[3, [1, 3, 5, 7, 9]]\n",
      "[3, [1, 3, 5, 7, 9], 2, 4, 6, 8, 10]\n"
     ]
    }
   ],
   "source": [
    "# append() 오ㅏ eztend()의 차이\n",
    "lst_a = [1, 3, 5, 7, 9]\n",
    "lst_b = [2, 4, 6, 8, 10]\n",
    "lst_c = [3]\n",
    "\n",
    "lst_c.append(lst_a)\n",
    "print(lst_c)\n",
    "\n",
    "lst_c.extend(lst_b)\n",
    "print(lst_c)"
   ]
  },
  {
   "cell_type": "code",
   "execution_count": 18,
   "metadata": {},
   "outputs": [],
   "source": [
    "# merge_sort() - pythonic way\n",
    "\n",
    "def merge_sort(arr):\n",
    "    if len(arr) < 2:\n",
    "        return arr\n",
    "    \n",
    "    mid = len(arr) // 2\n",
    "    left = arr[:mid]\n",
    "    right = arr[mid:]\n",
    "\n",
    "    return merge(merge_sort(left), merge_sort(right))\n",
    "\n",
    "def merge(left, right):\n",
    "    result = []\n",
    "    i = j = 0\n",
    "\n",
    "    while i < len(left) and j < len(right):\n",
    "        if left[i] < right[j]:\n",
    "            result.append(left[i])\n",
    "            i += 1\n",
    "        else:\n",
    "            result.append(right[j])\n",
    "            j += 1\n",
    "            \n",
    "    result.extend(left[i:])\n",
    "    result.extend(right[j:])\n",
    "    return result"
   ]
  },
  {
   "cell_type": "code",
   "execution_count": 19,
   "metadata": {},
   "outputs": [
    {
     "name": "stdout",
     "output_type": "stream",
     "text": [
      "[3, 9, 10, 27, 38, 43, 82]\n"
     ]
    }
   ],
   "source": [
    "# 테스트 케이스 \n",
    "arr = [38, 27, 43, 3, 9, 82, 10]\n",
    "sorted_arr = merge_sort(arr)\n",
    "print(sorted_arr) # 출력: [3, 9, 10, 27, 38, 43, 82]\n"
   ]
  },
  {
   "cell_type": "code",
   "execution_count": 20,
   "metadata": {},
   "outputs": [],
   "source": [
    "def merge_sort(arr):\n",
    "    if len(arr) < 2:\n",
    "        return arr\n",
    "    \n",
    "    mid = len(arr) // 2\n",
    "    left = arr[:mid]\n",
    "    right = arr[mid:]\n",
    "\n",
    "    return merge(merge_sort(left), merge_sort(right))\n",
    "\n",
    "def merge(left, right):\n",
    "    result = []\n",
    "    i = j = 0\n",
    "\n",
    "    while i < len(left) and j < len(right):\n",
    "        if left[i] < right[j]:\n",
    "            result.append(left[i])\n",
    "            i += 1\n",
    "        else:\n",
    "            result.append(right[j])\n",
    "            j += 1\n",
    "            \n",
    "    result.extend(left[i:])\n",
    "    result.extend(right[j:])\n",
    "    return result"
   ]
  },
  {
   "cell_type": "code",
   "execution_count": 21,
   "metadata": {},
   "outputs": [
    {
     "name": "stdout",
     "output_type": "stream",
     "text": [
      "[3, 9, 15, 27, 38, 43, 82]\n"
     ]
    }
   ],
   "source": [
    "# 테스트 케이스 \n",
    "arr = [38, 27, 43, 3, 9, 82, 15]\n",
    "sorted_arr = merge_sort(arr)\n",
    "print(sorted_arr) # 출력: [3, 9, 10, 27, 38, 43, 82]"
   ]
  },
  {
   "cell_type": "code",
   "execution_count": 23,
   "metadata": {},
   "outputs": [],
   "source": [
    "def merge_sort(arr):\n",
    "    if len(arr) < 2:\n",
    "        return arr\n",
    "    \n",
    "    mid = len(arr) // 2\n",
    "    left = arr[:mid]\n",
    "    right = arr[mid:]\n",
    "\n",
    "    return merge(merge_sort(left), merge_sort(right))\n",
    "\n",
    "def merge(left, right):\n",
    "    result = []\n",
    "    i = j = 0\n",
    "\n",
    "    while i < len(left) and j < len(right):\n",
    "        if left[i] < right[j]:\n",
    "            result.append(left[i])\n",
    "            i += 1\n",
    "        else:\n",
    "            result.append(right[j])\n",
    "            j += 1\n",
    "            \n",
    "    result.extend(left[i:])\n",
    "    result.extend(right[j:])\n",
    "    return result"
   ]
  },
  {
   "cell_type": "code",
   "execution_count": 24,
   "metadata": {},
   "outputs": [
    {
     "name": "stdout",
     "output_type": "stream",
     "text": [
      "[75, 120, 150, 200, 300, 320, 450, 600]\n"
     ]
    }
   ],
   "source": [
    "# 테스트 케이스 \n",
    "arr = [320, 150, 450, 200, 75, 300, 600, 120]\n",
    "sorted_arr = merge_sort(arr)\n",
    "print(sorted_arr) # 출력: [75, 120, 150, 200, 300, 320, 450, 600]"
   ]
  },
  {
   "cell_type": "code",
   "execution_count": null,
   "metadata": {},
   "outputs": [],
   "source": []
  }
 ],
 "metadata": {
  "kernelspec": {
   "display_name": "Python 3",
   "language": "python",
   "name": "python3"
  },
  "language_info": {
   "codemirror_mode": {
    "name": "ipython",
    "version": 3
   },
   "file_extension": ".py",
   "mimetype": "text/x-python",
   "name": "python",
   "nbconvert_exporter": "python",
   "pygments_lexer": "ipython3",
   "version": "3.11.3"
  },
  "orig_nbformat": 4
 },
 "nbformat": 4,
 "nbformat_minor": 2
}
