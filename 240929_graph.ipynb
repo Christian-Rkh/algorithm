{
 "cells": [
  {
   "cell_type": "code",
   "execution_count": 4,
   "metadata": {},
   "outputs": [],
   "source": [
    "graph1 = {\n",
    "    5 : [3, 7],\n",
    "    7 : [2, 3, 5],\n",
    "    2 : [1, 7],\n",
    "    3 : [1, 5, 7],\n",
    "    1 : [2, 3]\n",
    "\n",
    "}\n",
    "\n",
    "#print(graph1.values())\n",
    "total_connections = 0\n",
    "for node in graph1.values():\n",
    "    total_connections += len(node)\n",
    "\n",
    "num_edges = total_connections //2\n",
    "\n",
    "graph2 = {\n",
    "    4 : [9],\n",
    "    9 : [3, 4, 7],\n",
    "    3 : [7],\n",
    "    1 : [7]\n",
    "}"
   ]
  },
  {
   "cell_type": "code",
   "execution_count": 3,
   "metadata": {},
   "outputs": [],
   "source": [
    "graph3 = {\n",
    "    7 : {3:3, 2:10, 1:9},\n",
    "    2 : {7:10, 1:1},\n",
    "    3 : {7:3, 1:5},\n",
    "    1 : {3:5, 2:1, 7:9}\n",
    "\n",
    "}\n",
    "num_nodes = len(graph3)"
   ]
  },
  {
   "cell_type": "code",
   "execution_count": 5,
   "metadata": {},
   "outputs": [],
   "source": [
    "graph1 = {\n",
    "    \"A\" : [\"B\", \"C\"],\n",
    "    \"B\" : [\"A\", \"D\"],\n",
    "    \"C\" : [\"A\", \"D\"],\n",
    "    \"D\" : [\"C\", \"B\"],\n",
    "}\n",
    "\n",
    "graph2 = {\n",
    "    \"A\" : [\"B\", \"C\"],\n",
    "    \"B\" : [\"D\"],\n",
    "    \"C\" : [\"D\"],\n",
    "    \"D\" : []\n",
    "}\n",
    "\n",
    "graph3 = {\n",
    "    \"A\" : {\"B\":2, \"C\":1},\n",
    "    \"B\" : {\"D\":3},\n",
    "    \"C\" : {\"D\":4},\n",
    "    \"D\" : {}\n",
    "\n",
    "}"
   ]
  },
  {
   "cell_type": "code",
   "execution_count": 5,
   "metadata": {},
   "outputs": [
    {
     "name": "stdout",
     "output_type": "stream",
     "text": [
      "[5, 9, 8, 1, 4, 7, 2]\n"
     ]
    }
   ],
   "source": [
    "from collections import deque\n",
    "\n",
    "\n",
    "queue1 = deque([5, 9, 8, 1])\n",
    "numbers_to_add = [4, 7, 2]\n",
    "\n",
    "for num in numbers_to_add:\n",
    "    queue1.append(num)\n",
    "print(list(queue1))\n",
    "\n",
    "queue2 = deque([3, 7, 8, 9])\n",
    "\n",
    "for i in range(3):\n",
    "    removed_element = queue2.popleft()  \n",
    "\n",
    "\n",
    "\n",
    "queue3 = deque([2, 4, 6, 8, 3])\n",
    "front_element = queue3[0]  \n"
   ]
  },
  {
   "cell_type": "code",
   "execution_count": 6,
   "metadata": {},
   "outputs": [
    {
     "name": "stdout",
     "output_type": "stream",
     "text": [
      "[7, 8, 9]\n",
      "[8, 9]\n",
      "[9]\n"
     ]
    }
   ],
   "source": [
    "queue2 = deque([3, 7, 8, 9])\n",
    "for i in range(3):\n",
    "    queue2.popleft()\n",
    "    print(list(queue2))"
   ]
  },
  {
   "cell_type": "code",
   "execution_count": null,
   "metadata": {},
   "outputs": [],
   "source": [
    "queue3 = deque([2, 4, 6, 8, 3])\n",
    "front_item = queue3[0]\n",
    "print(front_item)"
   ]
  }
 ],
 "metadata": {
  "kernelspec": {
   "display_name": "Python 3",
   "language": "python",
   "name": "python3"
  },
  "language_info": {
   "codemirror_mode": {
    "name": "ipython",
    "version": 3
   },
   "file_extension": ".py",
   "mimetype": "text/x-python",
   "name": "python",
   "nbconvert_exporter": "python",
   "pygments_lexer": "ipython3",
   "version": "3.11.3"
  },
  "orig_nbformat": 4
 },
 "nbformat": 4,
 "nbformat_minor": 2
}
