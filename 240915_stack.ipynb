{
 "cells": [
  {
   "cell_type": "code",
   "execution_count": 4,
   "metadata": {},
   "outputs": [
    {
     "name": "stdout",
     "output_type": "stream",
     "text": [
      "[1, 2, 3]\n",
      "3\n",
      "[1, 2]\n",
      "2\n",
      "[1, 2]\n",
      "False\n"
     ]
    }
   ],
   "source": [
    "#stack\n",
    "stack = []\n",
    "\n",
    "stack.append(1)\n",
    "stack.append(2)\n",
    "stack.append(3)\n",
    "print(stack)\n",
    "\n",
    "popped_item = stack.pop()\n",
    "\n",
    "#pop\n",
    "\n",
    "print(popped_item)\n",
    "print(stack)\n",
    "\n",
    "#peek\n",
    "top_item = stack[-1]\n",
    "print(top_item)\n",
    "print(stack)\n",
    "\n",
    "#is_empty\n",
    "\n",
    "is_empty = len(stack) == 0\n",
    "print(is_empty)\n",
    "\n",
    "#size\n",
    "stack_size = len(stack)\n",
    "print(stack_size)"
   ]
  },
  {
   "cell_type": "code",
   "execution_count": 10,
   "metadata": {},
   "outputs": [
    {
     "name": "stdout",
     "output_type": "stream",
     "text": [
      "[1, 2, 3, 4]\n",
      "4\n",
      "[1, 2, 3]\n",
      "3\n",
      "[1, 2]\n",
      "2\n",
      "[1]\n",
      "1\n",
      "[]\n",
      "[2, 3, 4, 1]\n"
     ]
    }
   ],
   "source": [
    "stack = []\n",
    "\n",
    "\n",
    "stack.append(1)\n",
    "stack.append(2)\n",
    "stack.append(3)\n",
    "stack.append(4)\n",
    "print(stack)\n",
    "\n",
    "popped_item = stack.pop()\n",
    "\n",
    "print(popped_item)\n",
    "print(stack)\n",
    "popped_item = stack.pop()\n",
    "\n",
    "print(popped_item)\n",
    "print(stack)\n",
    "popped_item = stack.pop()\n",
    "\n",
    "print(popped_item)\n",
    "print(stack)\n",
    "popped_item = stack.pop()\n",
    "\n",
    "print(popped_item)\n",
    "print(stack)\n",
    "\n",
    "stack.append(2)\n",
    "stack.append(3)\n",
    "stack.append(4)\n",
    "stack.append(1)\n",
    "print(stack)\n",
    "\n"
   ]
  },
  {
   "cell_type": "code",
   "execution_count": 15,
   "metadata": {},
   "outputs": [
    {
     "name": "stdout",
     "output_type": "stream",
     "text": [
      "[1, 2, 3] [4]\n",
      "[1, 2] [4, 3]\n",
      "2\n",
      "[1, 3] [4]\n",
      "[1, 3, 4] []\n"
     ]
    },
    {
     "ename": "IndexError",
     "evalue": "pop from empty list",
     "output_type": "error",
     "traceback": [
      "\u001b[0;31m---------------------------------------------------------------------------\u001b[0m",
      "\u001b[0;31mIndexError\u001b[0m                                Traceback (most recent call last)",
      "Cell \u001b[0;32mIn[15], line 15\u001b[0m\n\u001b[1;32m     13\u001b[0m \u001b[39mprint\u001b[39m(stack2, stack3)\n\u001b[1;32m     14\u001b[0m \u001b[39mwhile\u001b[39;00m stack2:\n\u001b[0;32m---> 15\u001b[0m     \u001b[39mprint\u001b[39m(stack3\u001b[39m.\u001b[39;49mpop())\n\u001b[1;32m     17\u001b[0m \u001b[39mif\u001b[39;00m stack3 \u001b[39m==\u001b[39m is_empty:\n\u001b[1;32m     18\u001b[0m     \u001b[39mprint\u001b[39m(\u001b[39mTrue\u001b[39;00m)\n",
      "\u001b[0;31mIndexError\u001b[0m: pop from empty list"
     ]
    }
   ],
   "source": [
    "stack2 = [1, 2, 3, 4]\n",
    "stack3 = []\n",
    "\n",
    "stack3.append(stack2.pop())\n",
    "print(stack2, stack3)\n",
    "stack3.append(stack2.pop())\n",
    "print(stack2, stack3)\n",
    "\n",
    "print(stack2.pop())\n",
    "stack2.append(stack3.pop())\n",
    "print(stack2, stack3)\n",
    "stack2.append(stack3.pop())\n",
    "print(stack2, stack3)\n",
    "while stack3:\n",
    "    print(stack3.pop())\n",
    "\n",
    "if stack3 == is_empty:\n",
    "    print(True)\n",
    "else:\n",
    "    print(False)\n"
   ]
  },
  {
   "cell_type": "code",
   "execution_count": 18,
   "metadata": {},
   "outputs": [
    {
     "name": "stdout",
     "output_type": "stream",
     "text": [
      "[1, 2, 3, 4]\n",
      "[]\n",
      "FALSE\n"
     ]
    }
   ],
   "source": [
    "stack2 = [1, 2, 3, 4]\n",
    "print(stack2)\n",
    "\n",
    "while stack2:\n",
    "    stack2.pop()\n",
    "print(stack2)\n",
    "\n",
    "if stack2 == is_empty:\n",
    "    print(\"TRUE\")\n",
    "else:\n",
    "    print(\"FALSE\")"
   ]
  },
  {
   "cell_type": "code",
   "execution_count": 6,
   "metadata": {},
   "outputs": [
    {
     "name": "stdout",
     "output_type": "stream",
     "text": [
      "[1, 2, 3, 4]\n",
      "1\n",
      "2\n",
      "3\n",
      "4\n"
     ]
    }
   ],
   "source": [
    "stack5 = []\n",
    "stack5.append(1)\n",
    "stack5.append(2)\n",
    "stack5.append(3)\n",
    "stack5.append(4)\n",
    "\n",
    "print(stack5)\n",
    "\n",
    "stack6 = []\n",
    "while stack5:\n",
    "    stack6.append(stack5.pop())\n",
    "while stack6:\n",
    "    print(stack6.pop())"
   ]
  },
  {
   "cell_type": "code",
   "execution_count": 9,
   "metadata": {},
   "outputs": [
    {
     "name": "stdout",
     "output_type": "stream",
     "text": [
      "[3, 8, 1, 7]\n",
      "7\n",
      "[3, 8, 1]\n",
      "1\n",
      "[3, 8]\n",
      "8\n",
      "[3]\n",
      "3\n",
      "[]\n",
      "[7, 1, 8, 3, 5]\n"
     ]
    }
   ],
   "source": [
    "stack = []\n",
    "\n",
    "\n",
    "\n",
    "stack.append(3)\n",
    "stack.append(8)\n",
    "stack.append(1)\n",
    "stack.append(7)\n",
    "print(stack)\n",
    "\n",
    "popped_item = stack.pop()\n",
    "\n",
    "print(popped_item)\n",
    "print(stack)\n",
    "popped_item = stack.pop()\n",
    "\n",
    "print(popped_item)\n",
    "print(stack)\n",
    "popped_item = stack.pop()\n",
    "\n",
    "print(popped_item)\n",
    "print(stack)\n",
    "popped_item = stack.pop()\n",
    "\n",
    "print(popped_item)\n",
    "print(stack)\n",
    "\n",
    "stack.append(7)\n",
    "stack.append(1)\n",
    "stack.append(8)\n",
    "stack.append(3)\n",
    "stack.append(5)\n",
    "print(stack)\n"
   ]
  },
  {
   "cell_type": "code",
   "execution_count": 11,
   "metadata": {},
   "outputs": [
    {
     "name": "stdout",
     "output_type": "stream",
     "text": [
      "!!!dlrOw 0LleI-I"
     ]
    }
   ],
   "source": [
    "text = \"I-IelL0 wOrld!!!\"\n",
    "stack_hello = []\n",
    "\n",
    "for char in text:\n",
    "    stack_hello.append(char)\n",
    "while stack_hello:\n",
    "    print(stack_hello.pop(), end=\"\")"
   ]
  },
  {
   "attachments": {},
   "cell_type": "markdown",
   "metadata": {},
   "source": [
    "# HW"
   ]
  },
  {
   "attachments": {},
   "cell_type": "markdown",
   "metadata": {},
   "source": [
    "1. Add numbers to the stack:\n",
    "Add the following numbers in order to the empty stack and print the status of the stack.\n",
    "\n",
    "-stack: []\n",
    "-Numbers: 5, 3, 7, 2, 8\n",
    "\n",
    "2. Remove numbers from the stack:\n",
    "Remove numbers from the given stack one by one, and print the state of the stack at each step.\n",
    "\n",
    "- Stack: [5, 3, 7, 2, 8]\n",
    "    Step 1: Remove one number from the stack\n",
    "    Step 2: Remove one number from the stack\n",
    "    Step 3: Remove one number from the stack\n",
    "\n",
    "3. Check the top number on the stack:\n",
    "Check the top number in the given stack and print it.\n",
    "\n",
    "- Stack: [4, 6, 9, 1, 7]\n"
   ]
  },
  {
   "cell_type": "code",
   "execution_count": 1,
   "metadata": {},
   "outputs": [
    {
     "name": "stdout",
     "output_type": "stream",
     "text": [
      "[5]\n",
      "[5, 3]\n",
      "[5, 3, 7]\n",
      "[5, 3, 7, 2]\n",
      "[5, 3, 7, 2, 8]\n"
     ]
    }
   ],
   "source": [
    "stack1 = []\n",
    "\n",
    "stack1.append(5)\n",
    "print(stack1)\n",
    "stack1.append(3)\n",
    "print(stack1)\n",
    "stack1.append(7)\n",
    "print(stack1)\n",
    "stack1.append(2)\n",
    "print(stack1)\n",
    "stack1.append(8)\n",
    "print(stack1)"
   ]
  },
  {
   "cell_type": "code",
   "execution_count": 2,
   "metadata": {},
   "outputs": [
    {
     "name": "stdout",
     "output_type": "stream",
     "text": [
      "[5]\n",
      "[5, 3]\n",
      "[5, 3, 7]\n",
      "[5, 3, 7, 2]\n",
      "[5, 3, 7, 2, 8]\n"
     ]
    }
   ],
   "source": [
    "lst = [5, 3, 7, 2, 8]\n",
    "stack2 = []\n",
    "\n",
    "for i in lst:\n",
    "    stack2.append(i)\n",
    "    print(stack2)"
   ]
  },
  {
   "cell_type": "code",
   "execution_count": 3,
   "metadata": {},
   "outputs": [
    {
     "name": "stdout",
     "output_type": "stream",
     "text": [
      "[5, 3, 7, 2]\n",
      "[5, 3, 7]\n",
      "[5, 3]\n"
     ]
    }
   ],
   "source": [
    "stack3 = [5, 3, 7, 2, 8]\n",
    "for i in range(3):\n",
    "    stack3.pop()\n",
    "    print(stack3)"
   ]
  },
  {
   "cell_type": "code",
   "execution_count": 5,
   "metadata": {},
   "outputs": [
    {
     "name": "stdout",
     "output_type": "stream",
     "text": [
      "7\n"
     ]
    }
   ],
   "source": [
    "stack4 = [4, 6, 9, 1, 7]\n",
    "\n",
    "top_item = stack4[-1]\n",
    "print(top_item)"
   ]
  },
  {
   "attachments": {},
   "cell_type": "markdown",
   "metadata": {},
   "source": [
    "CRUD\n",
    "\n",
    "C = Create - append\n",
    "R = Read - top_item\n",
    "U - Update\n",
    "D = Delete - pop"
   ]
  }
 ],
 "metadata": {
  "kernelspec": {
   "display_name": "Python 3",
   "language": "python",
   "name": "python3"
  },
  "language_info": {
   "codemirror_mode": {
    "name": "ipython",
    "version": 3
   },
   "file_extension": ".py",
   "mimetype": "text/x-python",
   "name": "python",
   "nbconvert_exporter": "python",
   "pygments_lexer": "ipython3",
   "version": "3.11.3"
  },
  "orig_nbformat": 4
 },
 "nbformat": 4,
 "nbformat_minor": 2
}
