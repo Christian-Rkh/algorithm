{
 "cells": [
  {
   "cell_type": "code",
   "execution_count": 2,
   "metadata": {},
   "outputs": [],
   "source": [
    "def dfs_iterative(graph, start):\n",
    "    visited = []\n",
    "    stack = [start]\n",
    "    \n",
    "    while stack:\n",
    "        node = stack.pop()\n",
    "        if node not in visited:\n",
    "            visited.append(node)\n",
    "\n",
    "            for neighbor in reversed(graph[node]):\n",
    "                if neighbor not in visited:\n",
    "                    stack.append(neighbor)\n",
    "    return visited"
   ]
  },
  {
   "cell_type": "code",
   "execution_count": 3,
   "metadata": {},
   "outputs": [
    {
     "name": "stdout",
     "output_type": "stream",
     "text": [
      "DFS 방문 순서: [1, 2, 3, 4, 5, 6, 7, 8, 9, 10]\n"
     ]
    }
   ],
   "source": [
    "graph = {\n",
    "    1: [2, 5, 9],\n",
    "    2: [1, 3],\n",
    "    3: [2, 4],\n",
    "    4: [3],\n",
    "    5: [1, 6, 8],\n",
    "    6: [5, 7],\n",
    "    7: [6],\n",
    "    8: [5],\n",
    "    9: [1, 10],\n",
    "    10: [9]\n",
    "}\n",
    "start_node = 1\n",
    "visited = dfs_iterative(graph, start_node)\n",
    "print(\"DFS 방문 순서:\", visited)"
   ]
  },
  {
   "cell_type": "code",
   "execution_count": 4,
   "metadata": {},
   "outputs": [
    {
     "name": "stdout",
     "output_type": "stream",
     "text": [
      "DFS 방문 순서: [1, 2, 3, 4, 5, 6, 7, 8, 9, 10]\n"
     ]
    }
   ],
   "source": [
    "def dfs_recursive(graph, node, visited):\n",
    "    if node not in visited:\n",
    "        visited.append(node)\n",
    "        for neighbor in graph[node]:\n",
    "            dfs_recursive(graph, neighbor, visited)\n",
    "\n",
    "graph = {\n",
    "    1: [2, 5, 9],\n",
    "    2: [1, 3],\n",
    "    3: [2, 4],\n",
    "    4: [3],\n",
    "    5: [1, 6, 8],\n",
    "    6: [5, 7],\n",
    "    7: [6],\n",
    "    8: [5],\n",
    "    9: [1, 10],\n",
    "    10: [9]\n",
    "}\n",
    "start_node = 1\n",
    "visited = dfs_iterative(graph, start_node)\n",
    "print(\"DFS 방문 순서:\", visited)"
   ]
  },
  {
   "cell_type": "code",
   "execution_count": 5,
   "metadata": {},
   "outputs": [],
   "source": [
    "def dfs_iterative_find_target(graph, start, target):\n",
    "    visited = []\n",
    "    stack = [start]\n",
    "    \n",
    "    while stack:\n",
    "        node = stack.pop()\n",
    "        if node not in visited:\n",
    "            visited.append(node)\n",
    "        \n",
    "            if node == target:\n",
    "                return visited\n",
    "\n",
    "            for neighbor in reversed(graph[node]):\n",
    "                if neighbor not in visited:\n",
    "                    stack.append(neighbor)\n",
    "    return visited"
   ]
  },
  {
   "cell_type": "code",
   "execution_count": 6,
   "metadata": {},
   "outputs": [
    {
     "name": "stdout",
     "output_type": "stream",
     "text": [
      "DFS 방문 순서: [1, 2, 3, 4, 5, 6, 7, 8, 9, 10]\n"
     ]
    }
   ],
   "source": [
    "graph = {\n",
    "    1: [2, 5, 9],\n",
    "    2: [1, 3],\n",
    "    3: [2, 4],\n",
    "    4: [3],\n",
    "    5: [1, 6, 8],\n",
    "    6: [5, 7],\n",
    "    7: [6],\n",
    "    8: [5],\n",
    "    9: [1, 10],\n",
    "    10: [9]\n",
    "}\n",
    "start_node = 1\n",
    "visited = dfs_iterative(graph, start_node)\n",
    "print(\"DFS 방문 순서:\", visited)"
   ]
  },
  {
   "cell_type": "code",
   "execution_count": 7,
   "metadata": {},
   "outputs": [],
   "source": [
    "def find_area_size(grid, row, col):\n",
    "    target_color = grid[row][col]\n",
    "    rows, cols = len(grid), len(grid[0])\n",
    "    direction = [(1, 0), (-1, 0), (0, 1), (0, -1)]\n",
    "\n",
    "    visited = set()\n",
    "    stack = [(row, col)]\n",
    "    area_size = 0\n",
    "\n",
    "    while stack:\n",
    "        r, c = stack.pop()\n",
    "        if (r, c)not in visited:\n",
    "            visited.add((r, c))\n",
    "            area_size += 1\n",
    "\n",
    "            for dr, dc, in direction:\n",
    "                nr, nc = r + dr, c + dc\n",
    "                if 0 <= nr < rows and 0 <= nc < cols and (nr, nc) not in visited and grid[nr][nc] == target_color:\n",
    "                    stack.append((nr, nc))\n",
    "\n",
    "    return area_size"
   ]
  },
  {
   "cell_type": "code",
   "execution_count": 8,
   "metadata": {},
   "outputs": [
    {
     "name": "stdout",
     "output_type": "stream",
     "text": [
      "3\n"
     ]
    }
   ],
   "source": [
    "grid = [\n",
    "    [1, 1, 2, 3],\n",
    "    [4, 1, 2, 2],\n",
    "    [4, 4, 4, 3]\n",
    "]\n",
    "\n",
    "row, col = 1, 1\n",
    "print(find_area_size(grid, row, col))"
   ]
  },
  {
   "cell_type": "code",
   "execution_count": 9,
   "metadata": {},
   "outputs": [],
   "source": [
    "def find_area_size_reccursive(grid, row, col):\n",
    "    target_color = grid[row][col]\n",
    "    rows, cols = len(grid), len(grid[0])\n",
    "    visited = set()\n",
    "\n",
    "    def dfs(r, c):\n",
    "        if (r, c) in visited or not (0 ,+ r < rows and 0 <= c < cols) or grid[r][c] != target_color:\n",
    "            return 0\n",
    "        visited.add((r, c))\n",
    "        return 1 + dfs(r+1, c) + dfs (r-1, c) + dfs(r, c+1) + dfs(r, c-1)"
   ]
  },
  {
   "cell_type": "code",
   "execution_count": 10,
   "metadata": {},
   "outputs": [
    {
     "name": "stdout",
     "output_type": "stream",
     "text": [
      "4\n"
     ]
    }
   ],
   "source": [
    "grid = [\n",
    "    [1, 1, 0, 0, 0],\n",
    "    [1, 1, 0, 1, 0],\n",
    "    [0, 0, 0, 1, 1],\n",
    "    [0, 1, 1, 1, 0],\n",
    "    [0, 0, 1, 0, 0]\n",
    "]\n",
    "\n",
    "row, col = 1, 1\n",
    "print(find_area_size(grid, row, col))"
   ]
  },
  {
   "cell_type": "code",
   "execution_count": 11,
   "metadata": {},
   "outputs": [],
   "source": [
    "def find_treasure_path(garden, row, col):\n",
    "    rows, cols = len(garden), len(garden[0])\n",
    "    directions = [(1, 0), (-1, 0), (0, 1), (0, -1)]\n",
    "\n",
    "    visited = set()\n",
    "    stack = [(row, col)]\n",
    "    path = []\n",
    "\n",
    "    while stack:\n",
    "        r, c = stack.pop()\n",
    "        if (r, c) not in visited:\n",
    "            visited.add((r, c))\n",
    "            path.append((r, c))\n",
    "            \n",
    "            if (r, c) == (rows -1, cols -1):\n",
    "                return path\n",
    "            for dr, dc, in directions:\n",
    "                nr, nc = r + dr, c + dc\n",
    "                if 0 <= nr < rows and 0 <= nc < cols and (nr, nc) not in visited and garden [nr][nc] == 0:\n",
    "                    stack.append((nr, nc))\n",
    "    return None"
   ]
  },
  {
   "cell_type": "code",
   "execution_count": 12,
   "metadata": {},
   "outputs": [
    {
     "name": "stdout",
     "output_type": "stream",
     "text": [
      "[(0, 0), (0, 1), (1, 1), (2, 1), (2, 0), (3, 0), (4, 0), (4, 1), (4, 2), (4, 3), (4, 4)]\n"
     ]
    }
   ],
   "source": [
    "garden = [\n",
    "    [0, 0, 1, 0, 0],\n",
    "    [1, 0, 1, 0, 1],\n",
    "    [0, 0, 0, 0, 0],\n",
    "    [0, 1, 1, 1, 0],\n",
    "    [0, 0, 0, 0, 0]\n",
    "]\n",
    "\n",
    "start_row, start_col = 0, 0\n",
    "path_to_treasure = find_treasure_path(garden, start_row, start_col)\n",
    "print(path_to_treasure)"
   ]
  },
  {
   "cell_type": "code",
   "execution_count": 13,
   "metadata": {},
   "outputs": [
    {
     "name": "stdout",
     "output_type": "stream",
     "text": [
      "3, 2, 1, 4, 5\n"
     ]
    }
   ],
   "source": [
    "print(\"3, 2, 1, 4, 5\")"
   ]
  },
  {
   "cell_type": "code",
   "execution_count": null,
   "metadata": {},
   "outputs": [],
   "source": []
  },
  {
   "cell_type": "code",
   "execution_count": 14,
   "metadata": {},
   "outputs": [],
   "source": [
    "def dfs_iterative(graph, start):\n",
    "    visited = []\n",
    "    stack = [start]\n",
    "\n",
    "    while stack:\n",
    "        node = stack.pop()\n",
    "        if node not in visited:\n",
    "            visited.append(node)\n",
    "\n",
    "            for neighbor in reversed(graph[node]):\n",
    "                if neighbor not in visited:\n",
    "                    stack.append(neighbor)\n",
    "    return visited"
   ]
  },
  {
   "cell_type": "code",
   "execution_count": null,
   "metadata": {},
   "outputs": [],
   "source": []
  }
 ],
 "metadata": {
  "kernelspec": {
   "display_name": "Python 3",
   "language": "python",
   "name": "python3"
  },
  "language_info": {
   "codemirror_mode": {
    "name": "ipython",
    "version": 3
   },
   "file_extension": ".py",
   "mimetype": "text/x-python",
   "name": "python",
   "nbconvert_exporter": "python",
   "pygments_lexer": "ipython3",
   "version": "3.11.3"
  },
  "orig_nbformat": 4
 },
 "nbformat": 4,
 "nbformat_minor": 2
}
