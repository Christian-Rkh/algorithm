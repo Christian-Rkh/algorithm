{
 "cells": [
  {
   "cell_type": "code",
   "execution_count": 5,
   "metadata": {},
   "outputs": [
    {
     "name": "stdout",
     "output_type": "stream",
     "text": [
      "1\n",
      "{'apple': 10, 'bannana': 2, 'cherry': 3}\n",
      "{'apple': 10, 'bannana': 2, 'cherry': 3, 'dates': 4}\n"
     ]
    }
   ],
   "source": [
    "fruits = {'apple': 1, \"bannana\": 2, \"cherry\": 3}\n",
    "\n",
    "print(fruits['apple'])\n",
    "fruits[\"apple\"] = 10\n",
    "\n",
    "print(fruits)\n",
    "\n",
    "fruits['dates'] = 4 # create\n",
    "print(fruits)"
   ]
  },
  {
   "cell_type": "code",
   "execution_count": 15,
   "metadata": {},
   "outputs": [
    {
     "name": "stdout",
     "output_type": "stream",
     "text": [
      "{'magic_bomb': 1, 'heal_potion': 10, 'apple': 2}\n"
     ]
    }
   ],
   "source": [
    "hero = {\"magic_bomb\": 3, \"heal_potion\": 10, \"apple\": 3}\n",
    "hero2 = {\"magic_bomb\": 3 - 2, \"heal_potion\": 10, \"apple\": 3 - 1}\n",
    "print(hero2)"
   ]
  },
  {
   "cell_type": "code",
   "execution_count": 16,
   "metadata": {},
   "outputs": [
    {
     "name": "stdout",
     "output_type": "stream",
     "text": [
      "dict_values([3, 10, 3])\n",
      "dict_keys(['magic_bomb', 'heal_potion', 'apple'])\n",
      "dict_items([('magic_bomb', 3), ('heal_potion', 10), ('apple', 3)])\n"
     ]
    }
   ],
   "source": [
    "print(hero.values())\n",
    "print(hero.keys())\n",
    "print(hero.items())"
   ]
  },
  {
   "cell_type": "code",
   "execution_count": 19,
   "metadata": {},
   "outputs": [
    {
     "name": "stdout",
     "output_type": "stream",
     "text": [
      "16\n"
     ]
    }
   ],
   "source": [
    "item_count = sum(hero.values())\n",
    "\n",
    "print(item_count)\n",
    "bag = 20\n",
    "\n",
    "if item_count > bag:\n",
    "    print(\"Bag is full\")"
   ]
  },
  {
   "cell_type": "code",
   "execution_count": 32,
   "metadata": {},
   "outputs": [
    {
     "name": "stdout",
     "output_type": "stream",
     "text": [
      "{'pikachu': 15, 'charmander': 10, 'squirtle': 7, 'bulbasaur': 5}\n",
      "{'pikachu': 15, 'charmander': 10, 'squirtle': 7, 'bulbasaur': 5}\n"
     ]
    }
   ],
   "source": [
    "pokemon_level = {\"bulbasaur\": 5, \"charmander\": 10, \"squirtle\": 7, \"pikachu\": 15}\n",
    "\n",
    "def sorted_by_value(item):\n",
    "    return item[1]\n",
    "pokemon = dict(sorted(pokemon_level.items(), key=sorted_by_value, reverse = True))\n",
    "print(pokemon)\n",
    "# lamba item : item[1]\n",
    "\n",
    "pokemon2 = dict(sorted(pokemon_level.items(), key = lambda item : item[1], reverse = True))\n",
    "print(pokemon2)"
   ]
  },
  {
   "cell_type": "code",
   "execution_count": 29,
   "metadata": {},
   "outputs": [
    {
     "name": "stdout",
     "output_type": "stream",
     "text": [
      "250.0\n",
      "bag is full\n"
     ]
    }
   ],
   "source": [
    "sales = {\n",
    "    \"apple\": 100,\n",
    "    \"banana\": 50,\n",
    "    \"cherry\": 30,\n",
    "    \"date\": 70.\n",
    "}\n",
    "item_count = sum(sales.values())\n",
    "print(item_count)\n",
    "bag = 20\n",
    "\n",
    "if item_count > bag:\n",
    "    print(\"bag is full\")"
   ]
  },
  {
   "cell_type": "code",
   "execution_count": 36,
   "metadata": {},
   "outputs": [
    {
     "name": "stdout",
     "output_type": "stream",
     "text": [
      "{'Eva': 75, 'bob': 78, 'Chralie': 88, 'David': 92, 'Alice': 95}\n"
     ]
    }
   ],
   "source": [
    "scores = {\n",
    "    \"Alice\": 95,\n",
    "    \"bob\": 78,\n",
    "    \"Chralie\": 88,\n",
    "    \"David\": 92,\n",
    "    \"Eva\": 75,\n",
    "}\n",
    "def sorted_by_value(item):\n",
    "    return item[1]\n",
    "scores = dict(sorted(scores.items(), key=sorted_by_value))\n",
    "print(scores)"
   ]
  },
  {
   "cell_type": "code",
   "execution_count": 37,
   "metadata": {},
   "outputs": [
    {
     "name": "stdout",
     "output_type": "stream",
     "text": [
      "dict_items([('apple', 100), ('banana', 50), ('cherry', 30), ('dates', 70)])\n",
      "{'apple': 100, 'dates': 70}\n"
     ]
    }
   ],
   "source": [
    "sales = {\"apple\": 100, \"banana\": 50, \"cherry\": 30, \"dates\":70}\n",
    "print(sales.items())\n",
    "\n",
    "new = {}\n",
    "for key, value in sales.items():\n",
    "    if value >50:\n",
    "        new[key] = value\n",
    "print(new)\n",
    "\n",
    "new_dict = {key:value for key, value in sales.items() if value > 50}"
   ]
  },
  {
   "cell_type": "code",
   "execution_count": 38,
   "metadata": {},
   "outputs": [
    {
     "name": "stdout",
     "output_type": "stream",
     "text": [
      "{'Alice': 95, 'Chralie': 88, 'David': 92}\n"
     ]
    }
   ],
   "source": [
    "scores = {\n",
    "    \"Alice\": 95,\n",
    "    \"bob\": 78,\n",
    "    \"Chralie\": 88,\n",
    "    \"David\": 92,\n",
    "    \"Eva\": 75,\n",
    "}\n",
    "new_dict2 = {key:value for key, value in scores.items() if value>80}\n",
    "print(new_dict2)\n"
   ]
  },
  {
   "cell_type": "code",
   "execution_count": 41,
   "metadata": {},
   "outputs": [],
   "source": [
    "def binary_search(arr, target):\n",
    "    low = 0\n",
    "    high = len(arr) - 1\n",
    "    while low <= high:\n",
    "        mid = (low +high) // 2\n",
    "        guess = arr[mid]\n",
    "        if guess == target:\n",
    "            return mid \n",
    "        elif guess > target:\n",
    "            high = mid - 1\n",
    "        else:\n",
    "            low = mid + 1\n",
    "    return None\n"
   ]
  },
  {
   "cell_type": "code",
   "execution_count": 43,
   "metadata": {},
   "outputs": [
    {
     "name": "stdout",
     "output_type": "stream",
     "text": [
      "4\n"
     ]
    }
   ],
   "source": [
    "arr = [1, 3, 4, 5, 7,9]\n",
    "target = 7\n",
    "result = binary_search(arr, target)\n",
    "print(result)"
   ]
  },
  {
   "cell_type": "code",
   "execution_count": 45,
   "metadata": {},
   "outputs": [
    {
     "name": "stdout",
     "output_type": "stream",
     "text": [
      "18\n"
     ]
    }
   ],
   "source": [
    "# 1\n",
    "inventory = {\"laptop\": 5, \"tablet\": 3, \"smartphone\": 10}\n",
    "total_sum = sum(inventory.values())\n",
    "print(total_sum)"
   ]
  },
  {
   "cell_type": "code",
   "execution_count": 46,
   "metadata": {},
   "outputs": [
    {
     "name": "stdout",
     "output_type": "stream",
     "text": [
      "{'apple': 3, 'cherry': 2, 'banana': 1}\n"
     ]
    }
   ],
   "source": [
    "# 2\n",
    "prices = {'apple': 3, 'banana': 1, 'cherry': 2}\n",
    "sorted_prices = dict(sorted(prices.items(), key=lambda item: item[1], reverse=True))\n",
    "print(sorted_prices)"
   ]
  },
  {
   "cell_type": "code",
   "execution_count": 48,
   "metadata": {},
   "outputs": [
    {
     "name": "stdout",
     "output_type": "stream",
     "text": [
      "{'alice': 85, 'charlie': 90}\n"
     ]
    }
   ],
   "source": [
    "# 3\n",
    "exam_scores = {\"alice\": 85, \"bob\": 60, \"charlie\": 90, \"david\": 70}\n",
    "scores = {name : score for name, score in exam_scores.items() if score > 80}\n",
    "print(scores)"
   ]
  },
  {
   "cell_type": "code",
   "execution_count": null,
   "metadata": {},
   "outputs": [],
   "source": []
  }
 ],
 "metadata": {
  "kernelspec": {
   "display_name": "Python 3",
   "language": "python",
   "name": "python3"
  },
  "language_info": {
   "codemirror_mode": {
    "name": "ipython",
    "version": 3
   },
   "file_extension": ".py",
   "mimetype": "text/x-python",
   "name": "python",
   "nbconvert_exporter": "python",
   "pygments_lexer": "ipython3",
   "version": "3.11.3"
  },
  "orig_nbformat": 4
 },
 "nbformat": 4,
 "nbformat_minor": 2
}
