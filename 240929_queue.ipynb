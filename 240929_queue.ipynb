{
 "cells": [
  {
   "cell_type": "code",
   "execution_count": 4,
   "metadata": {},
   "outputs": [
    {
     "name": "stdout",
     "output_type": "stream",
     "text": [
      "deque([1, 2, 3])\n",
      "1\n",
      "2\n",
      "False\n",
      "2\n",
      "deque([])\n"
     ]
    }
   ],
   "source": [
    "from collections import deque\n",
    "#Create a new deque\n",
    "q = deque()\n",
    "q2 = deque([1, 2, 3])\n",
    "\n",
    "#print(q, q2)\n",
    "\n",
    "#update the deque\n",
    "q.append(1)\n",
    "q.append(2)\n",
    "q.append(3)\n",
    "\n",
    "print(q)\n",
    "\n",
    "#Dequeue\n",
    "print(q.popleft())\n",
    "\n",
    "#front of the queue\n",
    "if len(q) > 0:\n",
    "    front_item = q[0]\n",
    "    print(front_item)\n",
    "\n",
    "is_empty = len(q) == 0\n",
    "print(is_empty)\n",
    "\n",
    "#size\n",
    "q_size = len(q)\n",
    "print(q_size)\n",
    "\n",
    "q.clear()\n",
    "print(q)\n",
    "\n"
   ]
  },
  {
   "cell_type": "code",
   "execution_count": 20,
   "metadata": {},
   "outputs": [
    {
     "name": "stdout",
     "output_type": "stream",
     "text": [
      "deque([]) deque([5, 3, 7, 2, 8])\n",
      "deque([3, 7, 2, 8])\n",
      "deque([7, 2, 8])\n",
      "deque([2, 8])\n",
      "5\n"
     ]
    }
   ],
   "source": [
    "from collections import deque\n",
    "#Create a new deque\n",
    "q = deque()\n",
    "q2 = deque([5, 3, 7, 2, 8])\n",
    "print(q, q2)\n",
    "    \n",
    "q3 = deque([5, 3, 7, 2, 8])\n",
    "\n",
    "for i in range(3):\n",
    "    q3.popleft()\n",
    "    print(q3)\n",
    "\n",
    "print(q2.popleft())\n"
   ]
  },
  {
   "cell_type": "code",
   "execution_count": 21,
   "metadata": {},
   "outputs": [
    {
     "name": "stdout",
     "output_type": "stream",
     "text": [
      "4\n"
     ]
    }
   ],
   "source": [
    "q = deque()\n",
    "q2 = deque([4, 6, 9, 1, 7])\n",
    "\n",
    "print(q2.popleft())"
   ]
  },
  {
   "cell_type": "code",
   "execution_count": 5,
   "metadata": {},
   "outputs": [
    {
     "name": "stdout",
     "output_type": "stream",
     "text": [
      "51\n"
     ]
    }
   ],
   "source": [
    "from collections import deque\n",
    "\n",
    "\n",
    "n = 57\n",
    "cards = deque(range(1, n+1))\n",
    "    \n",
    "while len(cards) >1 :\n",
    "    cards.append(cards.popleft())\n",
    "    cards.popleft()\n",
    "\n",
    "print(cards[0])\n"
   ]
  },
  {
   "cell_type": "code",
   "execution_count": null,
   "metadata": {},
   "outputs": [],
   "source": []
  }
 ],
 "metadata": {
  "kernelspec": {
   "display_name": "Python 3",
   "language": "python",
   "name": "python3"
  },
  "language_info": {
   "codemirror_mode": {
    "name": "ipython",
    "version": 3
   },
   "file_extension": ".py",
   "mimetype": "text/x-python",
   "name": "python",
   "nbconvert_exporter": "python",
   "pygments_lexer": "ipython3",
   "version": "3.11.3"
  },
  "orig_nbformat": 4
 },
 "nbformat": 4,
 "nbformat_minor": 2
}
