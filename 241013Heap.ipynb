{
 "cells": [
  {
   "cell_type": "code",
   "execution_count": 1,
   "metadata": {},
   "outputs": [
    {
     "name": "stdout",
     "output_type": "stream",
     "text": [
      "[1, 3, 2, 5, 9, 4, 6, 5]\n"
     ]
    }
   ],
   "source": [
    "import heapq\n",
    "\n",
    "min_heap = [3, 1, 4, 5, 9, 2, 6, 5]\n",
    "heapq.heapify(min_heap) # min heapify\n",
    "\n",
    "print(min_heap)"
   ]
  },
  {
   "cell_type": "code",
   "execution_count": 2,
   "metadata": {},
   "outputs": [
    {
     "name": "stdout",
     "output_type": "stream",
     "text": [
      "[0, 1, 2, 3, 9, 4, 6, 5, 5]\n"
     ]
    }
   ],
   "source": [
    "heapq.heappush(min_heap, 0) # push 0 to heap\n",
    "print(min_heap)"
   ]
  },
  {
   "cell_type": "code",
   "execution_count": 3,
   "metadata": {},
   "outputs": [
    {
     "name": "stdout",
     "output_type": "stream",
     "text": [
      "0\n",
      "[1, 3, 2, 5, 9, 4, 6, 5]\n"
     ]
    }
   ],
   "source": [
    "min_val = heapq.heappop(min_heap) # pop min value\n",
    "print(min_val)\n",
    "print(min_heap)"
   ]
  },
  {
   "cell_type": "code",
   "execution_count": 5,
   "metadata": {},
   "outputs": [
    {
     "name": "stdout",
     "output_type": "stream",
     "text": [
      "[-9, -5, -6, -5, -1, -2, -4, -3]\n"
     ]
    }
   ],
   "source": [
    "import heapq # min heap\n",
    "\n",
    "max_heap_origin = [3, 1, 4, 5, 9, 2, 6, 5]\n",
    "max_heap = []\n",
    "for x in max_heap_origin:\n",
    "    x = -x\n",
    "    max_heap.append(x)\n",
    "# print(max_heap)\n",
    "\n",
    "heapq.heapify(max_heap)\n",
    "print(max_heap)"
   ]
  },
  {
   "cell_type": "code",
   "execution_count": 6,
   "metadata": {},
   "outputs": [
    {
     "name": "stdout",
     "output_type": "stream",
     "text": [
      "[-9, -7, -6, -5, -1, -2, -4, -3, -5]\n"
     ]
    }
   ],
   "source": [
    "heapq.heappush(max_heap, -7)\n",
    "print(max_heap)"
   ]
  },
  {
   "cell_type": "code",
   "execution_count": 7,
   "metadata": {},
   "outputs": [
    {
     "name": "stdout",
     "output_type": "stream",
     "text": [
      "9\n"
     ]
    }
   ],
   "source": [
    "max_val = -heapq.heappop(max_heap)\n",
    "print(max_val)"
   ]
  },
  {
   "cell_type": "code",
   "execution_count": 3,
   "metadata": {},
   "outputs": [
    {
     "name": "stdout",
     "output_type": "stream",
     "text": [
      "[-3, -1, -4, -5, -9, -2, -6, -5]\n"
     ]
    }
   ],
   "source": [
    "max_heap_origin = [3, 1, 4, 5, 9, 2, 6, 5]\n",
    "max_heap = []\n",
    "for x in max_heap_origin:\n",
    "    x = -x\n",
    "    max_heap.append(x)\n",
    "\n",
    "max_heap2 = [-x for x in max_heap_origin]\n",
    "\n",
    "print(max_heap2)"
   ]
  },
  {
   "cell_type": "code",
   "execution_count": 4,
   "metadata": {},
   "outputs": [
    {
     "name": "stdout",
     "output_type": "stream",
     "text": [
      "1\n"
     ]
    }
   ],
   "source": []
  },
  {
   "cell_type": "code",
   "execution_count": null,
   "metadata": {},
   "outputs": [],
   "source": []
  }
 ],
 "metadata": {
  "kernelspec": {
   "display_name": "Python 3",
   "language": "python",
   "name": "python3"
  },
  "language_info": {
   "codemirror_mode": {
    "name": "ipython",
    "version": 3
   },
   "file_extension": ".py",
   "mimetype": "text/x-python",
   "name": "python",
   "nbconvert_exporter": "python",
   "pygments_lexer": "ipython3",
   "version": "3.11.3"
  },
  "orig_nbformat": 4
 },
 "nbformat": 4,
 "nbformat_minor": 2
}
