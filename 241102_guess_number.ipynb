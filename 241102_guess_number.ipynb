{
 "cells": [
  {
   "cell_type": "code",
   "execution_count": 1,
   "metadata": {},
   "outputs": [
    {
     "name": "stdout",
     "output_type": "stream",
     "text": [
      "Hello! What is your name?\n",
      "Skibidi gyatt sigma\n"
     ]
    }
   ],
   "source": [
    "print(\"Hello! What is your name?\")\n",
    "name = input()\n",
    "print(name)"
   ]
  },
  {
   "cell_type": "code",
   "execution_count": 24,
   "metadata": {},
   "outputs": [
    {
     "name": "stdout",
     "output_type": "stream",
     "text": [
      "Well,Skibidi gyatt sigma, I am thinking of a number between 1 and 20.\n",
      "Take a guess\n",
      "NO\n",
      "Take a guess\n",
      "NO\n",
      "Take a guess\n",
      "NO\n",
      "Take a guess\n",
      "NO\n",
      "Take a guess\n",
      "NO\n"
     ]
    }
   ],
   "source": [
    "# random 1 ~ 20\n",
    "\n",
    "import random\n",
    "\n",
    "number = random.randint(1, 20)\n",
    "print(\"Well,\" + name +\", I am thinking of a number between 1 and 20.\")\n",
    "\n",
    "for i in range(5):\n",
    "\n",
    "    print(\"Take a guess\")\n",
    "    guess = input()\n",
    "    guess = int(guess)\n",
    "\n",
    "    if guess == number:\n",
    "        print(\"Nihao\")\n",
    "        break\n",
    "    else:\n",
    "        print(\"NO\")\n"
   ]
  },
  {
   "cell_type": "code",
   "execution_count": null,
   "metadata": {},
   "outputs": [],
   "source": [
    "def binary_search(arr, target):\n",
    "    low = 0\n",
    "    high = len(arr) - 1\n",
    "\n",
    "\n",
    "\n",
    "    while low <= high:\n",
    "        mid = (low + high) //2\n",
    "        guess = arr[mid]\n",
    "        if guess == target:\n",
    "            return mid\n",
    "        if guess > target:\n",
    "            high = mid - 1\n",
    "        else: low = mid + 1 \n",
    "    return None"
   ]
  },
  {
   "cell_type": "code",
   "execution_count": 28,
   "metadata": {},
   "outputs": [
    {
     "name": "stdout",
     "output_type": "stream",
     "text": [
      "3\n"
     ]
    }
   ],
   "source": [
    "arr = [1, 3, 5, 7, 9, 11, 13, 15, 17, 19]\n",
    "target = 7\n",
    "\n",
    "result = binary_search(arr, target)\n",
    "print(result)"
   ]
  },
  {
   "cell_type": "code",
   "execution_count": 46,
   "metadata": {},
   "outputs": [],
   "source": [
    "def binary_search_game(arr, target):\n",
    "    low = 0\n",
    "    high = len(arr) - 1\n",
    "\n",
    "    count = 0\n",
    "    \n",
    "    while low <= high:\n",
    "        mid = (low + high) //2\n",
    "        guess = arr[mid]\n",
    "        if guess == target:\n",
    "            return count\n",
    "        if guess > target:\n",
    "            high = mid - 1\n",
    "        else: \n",
    "            low = mid + 1\n",
    "            count += 1\n",
    "    return None"
   ]
  },
  {
   "cell_type": "code",
   "execution_count": 47,
   "metadata": {},
   "outputs": [
    {
     "name": "stdout",
     "output_type": "stream",
     "text": [
      "[1, 2, 3, 4, 5, 6, 7, 8, 9, 10, 11, 12, 13, 14, 15, 16, 17, 18, 19, 20]\n",
      "3\n"
     ]
    }
   ],
   "source": [
    "import random \n",
    "# 1 ~ 20\n",
    "arr = list(range(1, 21))\n",
    "print(arr)\n",
    "\n",
    "target = random.randint(1, 20)\n",
    "count = binary_search_game(arr, target)\n",
    "print(count)"
   ]
  },
  {
   "cell_type": "code",
   "execution_count": 7,
   "metadata": {},
   "outputs": [
    {
     "ename": "NameError",
     "evalue": "name 'name' is not defined",
     "output_type": "error",
     "traceback": [
      "\u001b[0;31m---------------------------------------------------------------------------\u001b[0m",
      "\u001b[0;31mNameError\u001b[0m                                 Traceback (most recent call last)",
      "Cell \u001b[0;32mIn[7], line 4\u001b[0m\n\u001b[1;32m      1\u001b[0m \u001b[39mimport\u001b[39;00m \u001b[39mrandom\u001b[39;00m\n\u001b[1;32m      3\u001b[0m number \u001b[39m=\u001b[39m random\u001b[39m.\u001b[39mrandint(\u001b[39m1\u001b[39m, \u001b[39m20\u001b[39m)\n\u001b[0;32m----> 4\u001b[0m \u001b[39mprint\u001b[39m(\u001b[39m\"\u001b[39m\u001b[39mWell,\u001b[39m\u001b[39m\"\u001b[39m \u001b[39m+\u001b[39m name \u001b[39m+\u001b[39m\u001b[39m\"\u001b[39m\u001b[39m, I am thinking of a number between 1 and 20.\u001b[39m\u001b[39m\"\u001b[39m)\n\u001b[1;32m      6\u001b[0m count1 \u001b[39m=\u001b[39m \u001b[39m0\u001b[39m\n\u001b[1;32m      8\u001b[0m \u001b[39mfor\u001b[39;00m i \u001b[39min\u001b[39;00m \u001b[39mrange\u001b[39m(\u001b[39m5\u001b[39m):\n",
      "\u001b[0;31mNameError\u001b[0m: name 'name' is not defined"
     ]
    }
   ],
   "source": [
    "import random\n",
    "\n",
    "number = random.randint(1, 20)\n",
    "print(\"Well,\" + name +\", I am thinking of a number between 1 and 20.\")\n",
    "\n",
    "count1 = 0\n",
    "\n",
    "for i in range(5):\n",
    "\n",
    "    print(\"Take a guess\")\n",
    "    guess = input()\n",
    "    guess = int(guess)\n",
    "\n",
    "    if guess == number:\n",
    "        print(\"Nihao\")\n",
    "        break\n",
    "    else:\n",
    "        print(\"NO\")\n",
    "        \n",
    "    count1 = count1 + 1\n",
    "    \n",
    "\n",
    "print(\"The number I was thinking of was \" + str(number))\n",
    "print(\"You took\" + str(count1) + \"guesses.\")"
   ]
  },
  {
   "cell_type": "code",
   "execution_count": 8,
   "metadata": {},
   "outputs": [],
   "source": [
    "books = [15, 20, 10, 30]\n",
    "# print(max(books))\n",
    "\n",
    "def find_min_shelf_height(books):\n",
    "    return max(books)\n"
   ]
  },
  {
   "cell_type": "code",
   "execution_count": 9,
   "metadata": {},
   "outputs": [],
   "source": [
    "books = [100, 300, 200, 400, 500]\n",
    "# print(max(books))\n",
    "\n",
    "def find_min_shelf_height(books):\n",
    "    return max(books)\n"
   ]
  },
  {
   "cell_type": "code",
   "execution_count": 20,
   "metadata": {},
   "outputs": [],
   "source": [
    "def max_cities_within_budget(costs, budget):\n",
    "    costs.sort()\n",
    "    cities = 0\n",
    "    for cost in costs:\n",
    "        if budget >= cost:\n",
    "            budget -= cost\n",
    "            cities += 1\n",
    "        else:\n",
    "            break\n",
    "        \n",
    "    return cities"
   ]
  },
  {
   "cell_type": "code",
   "execution_count": 13,
   "metadata": {},
   "outputs": [
    {
     "name": "stdout",
     "output_type": "stream",
     "text": [
      "2\n"
     ]
    }
   ],
   "source": [
    "travel_costs = [300, 200, 400, 500]\n",
    "budget = 800\n",
    "max_cities = max_cities_within_budget(travel_costs, budget)\n",
    "\n",
    "\n",
    "\n",
    "print(max_cities)"
   ]
  },
  {
   "cell_type": "code",
   "execution_count": 16,
   "metadata": {},
   "outputs": [],
   "source": [
    "def comportable_temperature(temp):\n",
    "    max_comfort = 0\n",
    "    optimal_temp = 0\n",
    "\n",
    "    for temp, comfort in temp:\n",
    "        if comfort > max_comfort:\n",
    "            max_comfort = max_comfort\n",
    "            optimal_temp = temp\n",
    "\n",
    "    return optimal_temp"
   ]
  },
  {
   "cell_type": "code",
   "execution_count": 21,
   "metadata": {},
   "outputs": [],
   "source": [
    "temp = [(18, 70), (20, 90), (22, 80), (24, 70)]"
   ]
  },
  {
   "cell_type": "code",
   "execution_count": 22,
   "metadata": {},
   "outputs": [],
   "source": [
    "books = [300, 200, 400, 500]\n",
    "# print(max(books))\n",
    "\n",
    "def find_min_shelf_height(books):\n",
    "    return max(books)\n"
   ]
  },
  {
   "cell_type": "code",
   "execution_count": 23,
   "metadata": {},
   "outputs": [],
   "source": [
    "def max_cities_within_budget(costs, budget):\n",
    "    costs.sort()\n",
    "    cities = 0\n",
    "    for cost in costs:\n",
    "        if budget >= cost:\n",
    "            budget -= cost\n",
    "            cities += 1\n",
    "        else:\n",
    "            break\n",
    "        \n",
    "    return cities"
   ]
  },
  {
   "cell_type": "code",
   "execution_count": 9,
   "metadata": {},
   "outputs": [],
   "source": [
    "def max_gift_within_budget(costs, budget):\n",
    "    costs.sort()\n",
    "    gift = 0\n",
    "    for cost in costs:\n",
    "        if budget >= cost:\n",
    "            budget -= cost\n",
    "            gift += 1\n",
    "        else:\n",
    "            break\n",
    "    return gift"
   ]
  },
  {
   "cell_type": "code",
   "execution_count": 10,
   "metadata": {},
   "outputs": [
    {
     "name": "stdout",
     "output_type": "stream",
     "text": [
      "3\n"
     ]
    }
   ],
   "source": [
    "costs = [300, 200, 400, 500]\n",
    "budget = 1000\n",
    "max_gift = max_gift_within_budget(costs, budget)\n",
    "print(max_gift)"
   ]
  },
  {
   "cell_type": "code",
   "execution_count": 14,
   "metadata": {},
   "outputs": [
    {
     "name": "stdout",
     "output_type": "stream",
     "text": [
      "The amount of the coins that can fit in the piggy bang = 10\n"
     ]
    }
   ],
   "source": [
    "def minimum_coin_bank_size(coins):\n",
    "    if not coins:\n",
    "        return 0\n",
    "    return max(coins)\n",
    "\n",
    "# 예시 입력\n",
    "coins = [1, 2, 5, 10]\n",
    "# 함수 호출\n",
    "result = minimum_coin_bank_size(coins)\n",
    "print(\"The amount of the coins that can fit in the piggy bang =\", result)\n"
   ]
  },
  {
   "cell_type": "code",
   "execution_count": 15,
   "metadata": {},
   "outputs": [
    {
     "name": "stdout",
     "output_type": "stream",
     "text": [
      "Best pool temperature: 28\n"
     ]
    }
   ],
   "source": [
    "def best_pool_temperature(preferred_temperatures):\n",
    "    if not preferred_temperatures:\n",
    "        return None  # 수온 목록이 비어있을 경우 None 반환\n",
    "    return max(preferred_temperatures)\n",
    "\n",
    "preferred_temperatures = [22, 24, 26, 28]\n",
    "\n",
    "result = best_pool_temperature(preferred_temperatures)\n",
    "print(\"Best pool temperature:\", result)"
   ]
  },
  {
   "cell_type": "code",
   "execution_count": null,
   "metadata": {},
   "outputs": [],
   "source": []
  }
 ],
 "metadata": {
  "kernelspec": {
   "display_name": "Python 3",
   "language": "python",
   "name": "python3"
  },
  "language_info": {
   "codemirror_mode": {
    "name": "ipython",
    "version": 3
   },
   "file_extension": ".py",
   "mimetype": "text/x-python",
   "name": "python",
   "nbconvert_exporter": "python",
   "pygments_lexer": "ipython3",
   "version": "3.11.3"
  },
  "orig_nbformat": 4
 },
 "nbformat": 4,
 "nbformat_minor": 2
}
