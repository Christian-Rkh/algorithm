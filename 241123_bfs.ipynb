{
 "cells": [
  {
   "cell_type": "code",
   "execution_count": 1,
   "metadata": {},
   "outputs": [],
   "source": [
    "from collections import deque\n",
    "\n",
    "def bfs(graph, start):\n",
    "    visited = set()\n",
    "    queue = deque([start])\n",
    "\n",
    "    while queue:\n",
    "        vertex = queue.popleft()\n",
    "        if vertex not in visited:\n",
    "            print(vertex, end='')\n",
    "            visited.add(vertex)\n",
    "\n",
    "            for neighbor in graph[vertex]:\n",
    "                if neighbor in graph[vertex]:\n",
    "                    if neighbor not in visited:\n",
    "                        queue.append(neighbor)"
   ]
  },
  {
   "cell_type": "code",
   "execution_count": 2,
   "metadata": {},
   "outputs": [],
   "source": [
    "graph = {\n",
    "    0: [1, 2],\n",
    "    1: [0, 3, 4],\n",
    "    2: [0, 5, 6],\n",
    "    3: [1, 7],\n",
    "    4: [1, 8],\n",
    "    5: [2, 9],\n",
    "    6: [2],\n",
    "    7: [3],\n",
    "    8: [4],\n",
    "    9: [5],\n",
    "}"
   ]
  },
  {
   "cell_type": "code",
   "execution_count": 6,
   "metadata": {},
   "outputs": [
    {
     "name": "stdout",
     "output_type": "stream",
     "text": [
      "0 (Distance: 0) 1 (Distance: 1) 2 (Distance: 1) 3 (Distance: 2) 4 (Distance: 2) 5 (Distance: 2) Target reached: 5 at distance 2\n"
     ]
    }
   ],
   "source": [
    "from collections import deque\n",
    "\n",
    "def bfs_to_target_with_distance(graph, start, target):\n",
    "    visited = set()\n",
    "    queue = deque([(start, 0)])\n",
    "\n",
    "    while queue:\n",
    "        vertex, distance = queue.popleft()\n",
    "        if vertex not in visited:\n",
    "            print(f\"{vertex} (Distance: {distance}) \", end ='')\n",
    "            visited.add(vertex)\n",
    "        if vertex == target:\n",
    "            print (\"Target reached:\", vertex, \"at distance\", distance)\n",
    "            return distance\n",
    "        for neighbor in graph[vertex]:\n",
    "                if neighbor not in visited:\n",
    "                     queue.append((neighbor, distance +1))\n",
    "    print(\"Target not reached\")\n",
    "    return -1\n",
    "distance = bfs_to_target_with_distance(graph, 0, 5)"
   ]
  },
  {
   "cell_type": "code",
   "execution_count": 10,
   "metadata": {},
   "outputs": [
    {
     "name": "stdout",
     "output_type": "stream",
     "text": [
      "4\n"
     ]
    }
   ],
   "source": [
    "from collections import deque\n",
    "\n",
    "def min_steps_to_exit(grid):\n",
    "    rows, cols = len(grid), len(grid[0])\n",
    "    if grid[0][0] == 1 or grid[rows -1] [cols-1] == 1:\n",
    "        return -1\n",
    "    directions = [(0, 1), (1, 0), (0, -1), (-1, 0)]\n",
    "    queue = deque([(0, 0, 0)])\n",
    "    visited = set((0,0))\n",
    "\n",
    "    while queue:\n",
    "        x, y, dist = queue.popleft()\n",
    "        if x == rows -1 and y == cols -1:\n",
    "            return dist\n",
    "        \n",
    "        for dx, dy in directions:\n",
    "            nx, ny = x + dx, y +dy\n",
    "            if 0 <= nx <rows and 0 <= ny < cols and grid[nx][ny] == 0 and (nx, ny ) not in visited:\n",
    "                visited.add((nx, ny))\n",
    "                queue.append((nx, ny, dist +1))\n",
    "    return -1\n",
    "\n",
    "grid = [\n",
    "    [0, 0, 0],\n",
    "    [1, 2, 0],\n",
    "    [0, 0, 0]\n",
    "]\n",
    "min_steps = min_steps_to_exit(grid)\n",
    "print(min_steps)"
   ]
  },
  {
   "cell_type": "code",
   "execution_count": 11,
   "metadata": {},
   "outputs": [
    {
     "name": "stdout",
     "output_type": "stream",
     "text": [
      "Minimum steps to collect all treasures: 5\n"
     ]
    }
   ],
   "source": [
    "from collections import deque\n",
    "\n",
    "def min_steps_to_collect_treasure(grid):\n",
    "    rows, cols = len(grid), len(grid[0])\n",
    "\n",
    "    treasures = sum(row.count('T') for row in grid)\n",
    "    \n",
    "    if grid[0][0] == 1 or treasures == 0:\n",
    "        return -1\n",
    "    \n",
    "    directions = [(0, 1), (1, 0), (0, -1), (-1, 0)]\n",
    "    queue = deque([(0, 0, 0)])\n",
    "    visited = set((0, 0))\n",
    "    found_treasures = 0\n",
    "\n",
    "    while queue:\n",
    "        x, y, dist = queue.popleft()\n",
    "        if grid[x][y] == 'T':\n",
    "            found_treasures += 1\n",
    "            grid[x][y] = 0\n",
    "            if found_treasures == treasures:\n",
    "                return dist\n",
    "        for dx, dy in directions:\n",
    "            nx, ny = x + dx, y + dy\n",
    "            if 0 <= nx < rows and 0 <= ny < cols and grid[nx][ny] != 1 and (nx, ny) not in visited:\n",
    "                visited.add((nx, ny))\n",
    "                queue.append((nx, ny, dist +1))\n",
    "    return -1\n",
    "\n",
    "grid = [\n",
    "    [0, 0, 'T'],\n",
    "    [1, 1, 0],\n",
    "    [0, 'T', 0]\n",
    "]\n",
    "\n",
    "min_steps = min_steps_to_collect_treasure(grid)\n",
    "print(\"Minimum steps to collect all treasures:\", min_steps)"
   ]
  },
  {
   "cell_type": "code",
   "execution_count": 2,
   "metadata": {},
   "outputs": [
    {
     "name": "stdout",
     "output_type": "stream",
     "text": [
      "9\n"
     ]
    }
   ],
   "source": [
    "from collections import deque\n",
    "\n",
    "def bfs(grid):\n",
    "    if not grid or not grid[0]:\n",
    "        return -1\n",
    "    \n",
    "    N = len(grid)\n",
    "    M = len(grid[0])\n",
    "    \n",
    "    \n",
    "    directions = [(0, 1), (1, 0), (0, -1), (-1, 0)]\n",
    "    \n",
    "   \n",
    "    queue = deque([(0, 0, 1)])  \n",
    "    visited = set((0, 0))  \n",
    "    \n",
    "    while queue:\n",
    "        x, y, length = queue.popleft()\n",
    "        \n",
    "        \n",
    "        if x == N - 1 and y == M - 1:\n",
    "            return length\n",
    "        \n",
    "        \n",
    "        for dx, dy in directions:\n",
    "            nx, ny = x + dx, y + dy\n",
    "            \n",
    "            \n",
    "            if 0 <= nx < N and 0 <= ny < M and (nx, ny) not in visited and grid[nx][ny] == 0:\n",
    "                visited.add((nx, ny))\n",
    "                queue.append((nx, ny, length + 1))\n",
    "    \n",
    "    return -1  \n",
    "\n",
    "# 테스트 예시\n",
    "grid = [[0,0,1,0,0], \n",
    "        [1,0,1,0,1], \n",
    "        [0,0,0,0,0], \n",
    "        [0,1,1,1,0], \n",
    "        [0,0,0,0,0]]\n",
    "\n",
    "print(bfs(grid))"
   ]
  },
  {
   "cell_type": "code",
   "execution_count": null,
   "metadata": {},
   "outputs": [],
   "source": []
  }
 ],
 "metadata": {
  "kernelspec": {
   "display_name": "Python 3",
   "language": "python",
   "name": "python3"
  },
  "language_info": {
   "codemirror_mode": {
    "name": "ipython",
    "version": 3
   },
   "file_extension": ".py",
   "mimetype": "text/x-python",
   "name": "python",
   "nbconvert_exporter": "python",
   "pygments_lexer": "ipython3",
   "version": "3.11.3"
  },
  "orig_nbformat": 4
 },
 "nbformat": 4,
 "nbformat_minor": 2
}
