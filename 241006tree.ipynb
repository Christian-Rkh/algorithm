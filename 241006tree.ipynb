{
 "cells": [
  {
   "cell_type": "code",
   "execution_count": 1,
   "metadata": {},
   "outputs": [
    {
     "name": "stdout",
     "output_type": "stream",
     "text": [
      "7\n"
     ]
    }
   ],
   "source": [
    "def calculate_total_nodes(levels):\n",
    "    total_nodes = 0\n",
    "\n",
    "    for level in range(levels):\n",
    "        nodes_at_level = 2 ** level \n",
    "        total_nodes += nodes_at_level\n",
    "    return total_nodes\n",
    "print(calculate_total_nodes(3))"
   ]
  },
  {
   "cell_type": "code",
   "execution_count": 3,
   "metadata": {},
   "outputs": [
    {
     "name": "stdout",
     "output_type": "stream",
     "text": [
      "2\n"
     ]
    }
   ],
   "source": [
    "def calculate_tree_height(nodes):\n",
    "    level = 0\n",
    "    total_nodes = 0\n",
    "\n",
    "    while True:\n",
    "        nodes_at_level = 2 ** level\n",
    "        total_nodes += nodes_at_level\n",
    "\n",
    "        if total_nodes >= nodes:\n",
    "            return level\n",
    "        level += 1\n",
    "\n",
    "nodes = 7\n",
    "height = calculate_tree_height(nodes)\n",
    "print(height)"
   ]
  },
  {
   "cell_type": "code",
   "execution_count": 4,
   "metadata": {},
   "outputs": [
    {
     "name": "stdout",
     "output_type": "stream",
     "text": [
      "2\n"
     ]
    }
   ],
   "source": [
    "def find_parent_node(node_number):\n",
    "    parent_node = (node_number) // 2\n",
    "    return parent_node\n",
    "node_number = 5\n",
    "parent_node = find_parent_node(node_number)\n",
    "print(parent_node)"
   ]
  },
  {
   "cell_type": "code",
   "execution_count": null,
   "metadata": {},
   "outputs": [],
   "source": []
  }
 ],
 "metadata": {
  "kernelspec": {
   "display_name": "Python 3",
   "language": "python",
   "name": "python3"
  },
  "language_info": {
   "codemirror_mode": {
    "name": "ipython",
    "version": 3
   },
   "file_extension": ".py",
   "mimetype": "text/x-python",
   "name": "python",
   "nbconvert_exporter": "python",
   "pygments_lexer": "ipython3",
   "version": "3.11.3"
  },
  "orig_nbformat": 4
 },
 "nbformat": 4,
 "nbformat_minor": 2
}
