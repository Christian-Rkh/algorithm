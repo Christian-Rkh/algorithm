{
 "cells": [
  {
   "cell_type": "code",
   "execution_count": 2,
   "metadata": {},
   "outputs": [],
   "source": [
    "from collections import deque\n",
    "\n",
    "def bfs(graph, start):\n",
    "    visited = set()\n",
    "    queue = deque([start])\n",
    "\n",
    "    while queue:\n",
    "        vertex = queue.popleft()\n",
    "        if vertex not in visited:\n",
    "            print(f\"{vertex} 방문한다\")\n",
    "            visited.add(vertex)\n",
    "        for neighbor in graph[vertex]:\n",
    "            if neighbor not in visited:\n",
    "                queue.append(neighbor)\n",
    "    return visited\n"
   ]
  },
  {
   "cell_type": "code",
   "execution_count": 3,
   "metadata": {},
   "outputs": [
    {
     "name": "stdout",
     "output_type": "stream",
     "text": [
      "1 방문한다\n",
      "2 방문한다\n",
      "3 방문한다\n",
      "4 방문한다\n",
      "5 방문한다\n",
      "6 방문한다\n"
     ]
    },
    {
     "data": {
      "text/plain": [
       "{1, 2, 3, 4, 5, 6}"
      ]
     },
     "execution_count": 3,
     "metadata": {},
     "output_type": "execute_result"
    }
   ],
   "source": [
    "graph = {\n",
    "    1: [2, 3],\n",
    "    2: [1, 4, 5],\n",
    "    3: [1, 6],\n",
    "    4: [2],\n",
    "    5: [2],\n",
    "    6: [3]\n",
    "}\n",
    "bfs(graph, 1)"
   ]
  },
  {
   "cell_type": "code",
   "execution_count": 12,
   "metadata": {},
   "outputs": [],
   "source": [
    "from collections import deque\n",
    "\n",
    "def bfs_target(graph, start, target):\n",
    "    visited = set()\n",
    "    queue = deque([(start, 0)])\n",
    "\n",
    "    while queue:\n",
    "        vertex, distance = queue.popleft()\n",
    "        if vertex not in visited:\n",
    "            print(f\"{vertex} 방문한다\")\n",
    "            visited.add(vertex)\n",
    "        if vertex == target:\n",
    "            print(\"타겟을 찾았습니다\")\n",
    "            return visited\n",
    "\n",
    "\n",
    "\n",
    "        for neighbor in graph[vertex]:\n",
    "            if neighbor not in visited:\n",
    "                queue.append((neighbor, distance + 1))\n",
    "                \n",
    "    return visited\n"
   ]
  },
  {
   "cell_type": "code",
   "execution_count": 13,
   "metadata": {},
   "outputs": [
    {
     "name": "stdout",
     "output_type": "stream",
     "text": [
      "1 방문한다\n",
      "2 방문한다\n",
      "3 방문한다\n",
      "4 방문한다\n",
      "타겟을 찾았습니다\n"
     ]
    },
    {
     "data": {
      "text/plain": [
       "{1, 2, 3, 4}"
      ]
     },
     "execution_count": 13,
     "metadata": {},
     "output_type": "execute_result"
    }
   ],
   "source": [
    "graph = {\n",
    "    1: [2, 3],\n",
    "    2: [1, 4, 5],\n",
    "    3: [1, 6],\n",
    "    4: [2],\n",
    "    5: [2],\n",
    "    6: [3]\n",
    "}\n",
    "bfs_target(graph, 1, 4)"
   ]
  },
  {
   "cell_type": "code",
   "execution_count": 17,
   "metadata": {},
   "outputs": [
    {
     "name": "stdout",
     "output_type": "stream",
     "text": [
      "1\n",
      "1\n",
      "2\n",
      "3\n",
      "5\n"
     ]
    }
   ],
   "source": [
    "def calculate_leaves(years):\n",
    "    if years == 1:\n",
    "        return 1\n",
    "    elif years == 2:\n",
    "        return 1\n",
    "    else:\n",
    "        return calculate_leaves(years - 1) + calculate_leaves (years - 2)\n",
    "    \n",
    "print(calculate_leaves(1))  # 출력: 1\n",
    "print(calculate_leaves(2))  # 출력: 1\n",
    "print(calculate_leaves(3))  # 출력: 2\n",
    "print(calculate_leaves(4))  # 출력: 3\n",
    "print(calculate_leaves(5))  # 출력: 5"
   ]
  },
  {
   "cell_type": "code",
   "execution_count": null,
   "metadata": {},
   "outputs": [],
   "source": []
  }
 ],
 "metadata": {
  "kernelspec": {
   "display_name": "Python 3",
   "language": "python",
   "name": "python3"
  },
  "language_info": {
   "codemirror_mode": {
    "name": "ipython",
    "version": 3
   },
   "file_extension": ".py",
   "mimetype": "text/x-python",
   "name": "python",
   "nbconvert_exporter": "python",
   "pygments_lexer": "ipython3",
   "version": "3.11.3"
  },
  "orig_nbformat": 4
 },
 "nbformat": 4,
 "nbformat_minor": 2
}
