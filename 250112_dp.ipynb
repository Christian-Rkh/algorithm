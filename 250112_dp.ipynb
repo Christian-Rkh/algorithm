{
 "cells": [
  {
   "cell_type": "code",
   "execution_count": null,
   "metadata": {},
   "outputs": [],
   "source": [
    "def climb_stairs(n):\n",
    "    if n == 1:\n",
    "        return 1\n",
    "    if n == 2:\n",
    "        return 2\n",
    "    dp = [0] * (n + 1)\n",
    "    dp[1] = 1\n",
    "    dp[2] = 2\n",
    "    for i in range(3, n +1):\n",
    "        dp[i] = dp[i - 1] + dp[i - 2]\n",
    "    return dp[n]"
   ]
  },
  {
   "cell_type": "code",
   "execution_count": null,
   "metadata": {},
   "outputs": [],
   "source": [
    "print(climb_stairs(4))"
   ]
  },
  {
   "cell_type": "code",
   "execution_count": 9,
   "metadata": {},
   "outputs": [],
   "source": [
    "def max_score(stairs):\n",
    "    n = len(stairs)\n",
    "    if n == 0:\n",
    "        return 0\n",
    "    if n == 1:\n",
    "        return stairs[0]\n",
    "    \n",
    "    dp = [0] * n\n",
    "    dp[0] = stairs[0]\n",
    "    dp[1] = max(stairs[0] + stairs[1], stairs[1])\n",
    "\n",
    "    for i in range(2, n):\n",
    "        dp[i] = max(dp[i-1] + stairs[i], dp[i - 2] + stairs[i])\n",
    "    return dp[-1]\n"
   ]
  },
  {
   "cell_type": "code",
   "execution_count": 10,
   "metadata": {},
   "outputs": [
    {
     "name": "stdout",
     "output_type": "stream",
     "text": [
      "16\n"
     ]
    }
   ],
   "source": [
    "stairs = [5, -5, 1, 3, -7, 5, 2]\n",
    "print(max_score(stairs))"
   ]
  },
  {
   "cell_type": "code",
   "execution_count": 11,
   "metadata": {},
   "outputs": [],
   "source": [
    "def max_happiness(candies, money):\n",
    "    dp = [0] * (money + 1)\n",
    "\n",
    "    for cost, happiness in candies:\n",
    "        for i in range(cost, money + 1):\n",
    "            dp[i] = max(dp[i], dp[i - cost] + happiness)\n",
    "\n",
    "    return dp[money]"
   ]
  },
  {
   "cell_type": "code",
   "execution_count": 12,
   "metadata": {},
   "outputs": [
    {
     "name": "stdout",
     "output_type": "stream",
     "text": [
      "12\n"
     ]
    }
   ],
   "source": [
    "candies_info = [(1, 2), (3, 4), (5, 7)]\n",
    "available_money = 6\n",
    "\n",
    "max_happiness_score = max_happiness(candies_info, available_money)\n",
    "print(max_happiness_score)"
   ]
  },
  {
   "cell_type": "code",
   "execution_count": 13,
   "metadata": {},
   "outputs": [],
   "source": [
    "def max_happiness(candies, money):\n",
    "    dp = [0] * (money + 1)\n",
    "\n",
    "    for cost, happiness in candies:\n",
    "        for i in range(cost, money + 1):\n",
    "            dp[i] = max(dp[i], dp[i - cost] + happiness)\n",
    "\n",
    "    return dp[money]"
   ]
  },
  {
   "cell_type": "code",
   "execution_count": 14,
   "metadata": {},
   "outputs": [
    {
     "name": "stdout",
     "output_type": "stream",
     "text": [
      "12\n"
     ]
    }
   ],
   "source": [
    "candies_info = [(1, 2), (3, 4), (5, 7)]\n",
    "available_money = 6\n",
    "\n",
    "max_happiness_score = max_happiness(candies_info, available_money)\n",
    "print(max_happiness_score)"
   ]
  },
  {
   "cell_type": "code",
   "execution_count": 15,
   "metadata": {},
   "outputs": [],
   "source": [
    "def max_money(houses):\n",
    "    n = len(houses)\n",
    "\n",
    "    if n == 0:\n",
    "        return 0\n",
    "    \n",
    "    if n == 1:\n",
    "        return max(houses[0], houses[1])\n",
    "    \n",
    "    if n == 2:\n",
    "        return max(houses[0], houses[1])\n",
    "    \n",
    "    dp = [0] * n\n",
    "    dp[0] = houses [0]\n",
    "    dp[1] = max(houses[0], houses[1])\n",
    "\n",
    "    for i in range(2, n):\n",
    "        dp[i] = max(dp[i - 2] + houses[i], dp[i -1])\n",
    "\n",
    "    return dp[-1] "
   ]
  },
  {
   "cell_type": "code",
   "execution_count": 16,
   "metadata": {},
   "outputs": [
    {
     "name": "stdout",
     "output_type": "stream",
     "text": [
      "12\n"
     ]
    }
   ],
   "source": [
    "print(max_money([2, 7, 9, 3, 1]))"
   ]
  },
  {
   "cell_type": "code",
   "execution_count": null,
   "metadata": {},
   "outputs": [],
   "source": []
  }
 ],
 "metadata": {
  "kernelspec": {
   "display_name": "Python 3",
   "language": "python",
   "name": "python3"
  },
  "language_info": {
   "codemirror_mode": {
    "name": "ipython",
    "version": 3
   },
   "file_extension": ".py",
   "mimetype": "text/x-python",
   "name": "python",
   "nbconvert_exporter": "python",
   "pygments_lexer": "ipython3",
   "version": "3.11.3"
  },
  "orig_nbformat": 4
 },
 "nbformat": 4,
 "nbformat_minor": 2
}
